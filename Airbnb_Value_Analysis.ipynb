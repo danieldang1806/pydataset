{
  "nbformat": 4,
  "nbformat_minor": 0,
  "metadata": {
    "colab": {
      "name": "Airbnb_Value_Analysis.ipynb",
      "provenance": [],
      "collapsed_sections": [],
      "toc_visible": true,
      "mount_file_id": "1zVgOAcR-j-N6uuFc8ofW-8fSrw8fvGAf",
      "authorship_tag": "ABX9TyPBN1IdEPK1fgO9FU5orKlz",
      "include_colab_link": true
    },
    "kernelspec": {
      "name": "python3",
      "display_name": "Python 3"
    },
    "language_info": {
      "name": "python"
    }
  },
  "cells": [
    {
      "cell_type": "markdown",
      "metadata": {
        "id": "view-in-github",
        "colab_type": "text"
      },
      "source": [
        "<a href=\"https://colab.research.google.com/github/danieldang1806/pydataset/blob/main/Airbnb_Value_Analysis.ipynb\" target=\"_parent\"><img src=\"https://colab.research.google.com/assets/colab-badge.svg\" alt=\"Open In Colab\"/></a>"
      ]
    },
    {
      "cell_type": "markdown",
      "source": [
        "# Airbnb Value Rating: What are the influential factors?"
      ],
      "metadata": {
        "id": "QbAg29hC3Qhh"
      }
    },
    {
      "cell_type": "markdown",
      "source": [
        "<img src=\"https://s3.amazonaws.com/blog4.0/blog/wp-content/uploads/Feature-Image_The-Ultimate-Guide-to-Airbnb-Reviews@2x-2048x1195.png\" width=600>"
      ],
      "metadata": {
        "id": "nSfrMP474m5g"
      }
    },
    {
      "cell_type": "markdown",
      "source": [
        "**1. Target audience:** on-going/ first-time Airbnb hosts in Los Angeles <br>\n",
        "**2. Metric:** Value rating score <br>\n",
        "**3. Flow of analysis:** <br>\n",
        "Find out the factors that impact the value rating score, including:\n",
        "- Size of listing\n",
        "- Competitive rate\n",
        "- Number of properties managed"
      ],
      "metadata": {
        "id": "gzvdEdeZ47Gb"
      }
    },
    {
      "cell_type": "markdown",
      "source": [
        "## Python libraries and data import"
      ],
      "metadata": {
        "id": "xcoQL7Qsf3mh"
      }
    },
    {
      "cell_type": "markdown",
      "source": [
        "### Import relevant Python libraries and adjust initial settings"
      ],
      "metadata": {
        "id": "f4CpWjgy6Eis"
      }
    },
    {
      "cell_type": "code",
      "source": [
        "# Import libraries\n",
        "import pandas as pd\n",
        "import matplotlib.pyplot as plt \n",
        "import seaborn as sns\n",
        "import numpy as np \n",
        "import gzip\n",
        "import re"
      ],
      "metadata": {
        "id": "JfBr7FhKf5A3"
      },
      "execution_count": 1,
      "outputs": []
    },
    {
      "cell_type": "code",
      "source": [
        "pip install geopandas"
      ],
      "metadata": {
        "id": "nhXnA2m0gMxT",
        "colab": {
          "base_uri": "https://localhost:8080/"
        },
        "outputId": "18b9d023-68c3-46c0-c199-eb684e1c9e9d"
      },
      "execution_count": 2,
      "outputs": [
        {
          "output_type": "stream",
          "name": "stdout",
          "text": [
            "Looking in indexes: https://pypi.org/simple, https://us-python.pkg.dev/colab-wheels/public/simple/\n",
            "Collecting geopandas\n",
            "  Downloading geopandas-0.10.2-py2.py3-none-any.whl (1.0 MB)\n",
            "\u001b[K     |████████████████████████████████| 1.0 MB 5.1 MB/s \n",
            "\u001b[?25hCollecting fiona>=1.8\n",
            "  Downloading Fiona-1.8.21-cp37-cp37m-manylinux2014_x86_64.whl (16.7 MB)\n",
            "\u001b[K     |████████████████████████████████| 16.7 MB 213 kB/s \n",
            "\u001b[?25hRequirement already satisfied: shapely>=1.6 in /usr/local/lib/python3.7/dist-packages (from geopandas) (1.8.2)\n",
            "Requirement already satisfied: pandas>=0.25.0 in /usr/local/lib/python3.7/dist-packages (from geopandas) (1.3.5)\n",
            "Collecting pyproj>=2.2.0\n",
            "  Downloading pyproj-3.2.1-cp37-cp37m-manylinux2010_x86_64.whl (6.3 MB)\n",
            "\u001b[K     |████████████████████████████████| 6.3 MB 43.6 MB/s \n",
            "\u001b[?25hRequirement already satisfied: setuptools in /usr/local/lib/python3.7/dist-packages (from fiona>=1.8->geopandas) (57.4.0)\n",
            "Collecting munch\n",
            "  Downloading munch-2.5.0-py2.py3-none-any.whl (10 kB)\n",
            "Requirement already satisfied: certifi in /usr/local/lib/python3.7/dist-packages (from fiona>=1.8->geopandas) (2022.6.15)\n",
            "Requirement already satisfied: six>=1.7 in /usr/local/lib/python3.7/dist-packages (from fiona>=1.8->geopandas) (1.15.0)\n",
            "Requirement already satisfied: click>=4.0 in /usr/local/lib/python3.7/dist-packages (from fiona>=1.8->geopandas) (7.1.2)\n",
            "Requirement already satisfied: attrs>=17 in /usr/local/lib/python3.7/dist-packages (from fiona>=1.8->geopandas) (22.1.0)\n",
            "Collecting click-plugins>=1.0\n",
            "  Downloading click_plugins-1.1.1-py2.py3-none-any.whl (7.5 kB)\n",
            "Collecting cligj>=0.5\n",
            "  Downloading cligj-0.7.2-py3-none-any.whl (7.1 kB)\n",
            "Requirement already satisfied: python-dateutil>=2.7.3 in /usr/local/lib/python3.7/dist-packages (from pandas>=0.25.0->geopandas) (2.8.2)\n",
            "Requirement already satisfied: numpy>=1.17.3 in /usr/local/lib/python3.7/dist-packages (from pandas>=0.25.0->geopandas) (1.21.6)\n",
            "Requirement already satisfied: pytz>=2017.3 in /usr/local/lib/python3.7/dist-packages (from pandas>=0.25.0->geopandas) (2022.1)\n",
            "Installing collected packages: munch, cligj, click-plugins, pyproj, fiona, geopandas\n",
            "Successfully installed click-plugins-1.1.1 cligj-0.7.2 fiona-1.8.21 geopandas-0.10.2 munch-2.5.0 pyproj-3.2.1\n"
          ]
        }
      ]
    },
    {
      "cell_type": "code",
      "source": [
        "import geopandas as gpd"
      ],
      "metadata": {
        "id": "6VefjFh8f-3W"
      },
      "execution_count": 3,
      "outputs": []
    },
    {
      "cell_type": "code",
      "source": [
        "pd.options.display.max_columns = None"
      ],
      "metadata": {
        "id": "9NsROeQ9gH2Q"
      },
      "execution_count": 4,
      "outputs": []
    },
    {
      "cell_type": "code",
      "source": [
        "sns.set_theme(style='whitegrid')"
      ],
      "metadata": {
        "id": "gr7iqwcrgVAM"
      },
      "execution_count": 5,
      "outputs": []
    },
    {
      "cell_type": "markdown",
      "source": [
        "### Import datasets"
      ],
      "metadata": {
        "id": "pmpPIyNO6P-1"
      }
    },
    {
      "cell_type": "markdown",
      "source": [
        "Import main dataset called `listings.csv.gz` and assign data to a shorten name called `df`"
      ],
      "metadata": {
        "id": "BGfBpQVz6zMd"
      }
    },
    {
      "cell_type": "code",
      "source": [
        "#! wget http://data.insideairbnb.com/united-states/ca/los-angeles/2022-06-06/data/listings.csv.gz -P '/content/drive/MyDrive/Mid-term Project'"
      ],
      "metadata": {
        "id": "Rbl4ALTbgWRV"
      },
      "execution_count": 6,
      "outputs": []
    },
    {
      "cell_type": "code",
      "source": [
        "with gzip.open('/content/drive/MyDrive/Mid-term Project/listings.csv.gz') as a:\n",
        "    df = pd.read_csv(a)"
      ],
      "metadata": {
        "id": "GclG_uxkgt8t"
      },
      "execution_count": 7,
      "outputs": []
    },
    {
      "cell_type": "markdown",
      "source": [
        "Import geojson file type of `neighbourhoods` in Los Angeles"
      ],
      "metadata": {
        "id": "vqOTV_bY68-M"
      }
    },
    {
      "cell_type": "code",
      "source": [
        "#! wget http://data.insideairbnb.com/united-states/ca/los-angeles/2022-06-06/visualisations/neighbourhoods.geojson -P '/content/drive/MyDrive/Mid-term Project'"
      ],
      "metadata": {
        "id": "b48J9XE_gk3I"
      },
      "execution_count": 8,
      "outputs": []
    },
    {
      "cell_type": "code",
      "source": [
        "neighbourhoods = gpd.read_file('/content/drive/MyDrive/Mid-term Project/neighbourhoods.geojson')\n",
        "print(neighbourhoods.head())"
      ],
      "metadata": {
        "colab": {
          "base_uri": "https://localhost:8080/"
        },
        "id": "V8AS1gW3gzFX",
        "outputId": "8b8a1f9a-9076-46d2-9cd9-878f628b18e1"
      },
      "execution_count": 9,
      "outputs": [
        {
          "output_type": "stream",
          "name": "stdout",
          "text": [
            "   neighbourhood   neighbourhood_group  \\\n",
            "0  Angeles Crest  Unincorporated Areas   \n",
            "1          Acton  Unincorporated Areas   \n",
            "2     Agua Dulce  Unincorporated Areas   \n",
            "3         Athens  Unincorporated Areas   \n",
            "4   Alondra Park  Unincorporated Areas   \n",
            "\n",
            "                                            geometry  \n",
            "0  MULTIPOLYGON (((-118.09667 34.47348, -118.0796...  \n",
            "1  MULTIPOLYGON (((-118.20703 34.53902, -118.1894...  \n",
            "2  MULTIPOLYGON (((-118.37822 34.48811, -118.3783...  \n",
            "3  MULTIPOLYGON (((-118.29152 33.93096, -118.2916...  \n",
            "4  MULTIPOLYGON (((-118.32651 33.89757, -118.3264...  \n"
          ]
        }
      ]
    },
    {
      "cell_type": "markdown",
      "source": [
        "## Data wrangling"
      ],
      "metadata": {
        "id": "jP4R6LqthsqA"
      }
    },
    {
      "cell_type": "markdown",
      "source": [
        "The overall process of this step is described by following points:\n",
        "- Cleaning and String processing\n",
        "- Correcting data type of some variables\n",
        "- Renaming columns to a shorter form\n",
        "- Missing data"
      ],
      "metadata": {
        "id": "l5fFqSU371Fv"
      }
    },
    {
      "cell_type": "code",
      "source": [
        "# Clean and correct data type of variable: price\n",
        "df['price'] = df['price'].str.strip('$')\n",
        "df['price'] = df['price'].str.replace(',','').astype('float')"
      ],
      "metadata": {
        "id": "aNVHW13Wh0y-"
      },
      "execution_count": 10,
      "outputs": []
    },
    {
      "cell_type": "code",
      "source": [
        "# String processing of variable: amenities\n",
        "df['amenities'] = df['amenities'].str.replace('[','').str.replace(']','')"
      ],
      "metadata": {
        "colab": {
          "base_uri": "https://localhost:8080/"
        },
        "id": "EXraSNhCimWc",
        "outputId": "29cd4098-35a5-4a32-bfde-54f4de7315ca"
      },
      "execution_count": 11,
      "outputs": [
        {
          "output_type": "stream",
          "name": "stderr",
          "text": [
            "/usr/local/lib/python3.7/dist-packages/ipykernel_launcher.py:2: FutureWarning: The default value of regex will change from True to False in a future version. In addition, single character regular expressions will *not* be treated as literal strings when regex=True.\n",
            "  \n"
          ]
        }
      ]
    },
    {
      "cell_type": "code",
      "source": [
        "# Rename some columns to a shorter form\n",
        "rename_col = {'neighborhood_overview': 'neighbourhood_overview',\n",
        "              'host_is_superhost': 'superhost',\n",
        "              'neighbourhood_cleansed': 'neighbourhood_city', \n",
        "              'neighbourhood_group_cleansed': 'neighbourhood_group', \n",
        "              'host_response_time': 'rep_time', \n",
        "              'host_response_rate': 'rep_rate',\n",
        "              'host_acceptance_rate': 'accept_rate', \n",
        "              'review_scores_rating': 'rs_overall',\n",
        "              'review_scores_accuracy': 'rs_accuracy',\n",
        "              'review_scores_cleanliness': 'rs_cleanliness',\n",
        "              'review_scores_checkin': 'rs_checkin',\n",
        "              'review_scores_communication': 'rs_communication',\n",
        "              'review_scores_location': 'rs_location',\n",
        "              'review_scores_value': 'rs_value'}\n",
        "\n",
        "df = df.rename(columns=rename_col)"
      ],
      "metadata": {
        "id": "qLdwNjFKioJX"
      },
      "execution_count": 12,
      "outputs": []
    },
    {
      "cell_type": "code",
      "source": [
        "# Drop missing rating score\n",
        "df = df.dropna(subset=['rs_overall', 'rs_accuracy', 'rs_cleanliness', 'rs_checkin', 'rs_communication', 'rs_location', 'rs_value'])"
      ],
      "metadata": {
        "id": "wIbgK-XTipwZ"
      },
      "execution_count": 13,
      "outputs": []
    },
    {
      "cell_type": "markdown",
      "source": [
        "Besides, we also need to limit the overall data to get the correct insights based on the analysis target"
      ],
      "metadata": {
        "id": "gOILfd0m9LhZ"
      }
    },
    {
      "cell_type": "code",
      "source": [
        "# Limit data of listings that have at least more than 1 review\n",
        "df = df[df['number_of_reviews'] > 1]"
      ],
      "metadata": {
        "id": "aiZDRY0Ii03S"
      },
      "execution_count": 14,
      "outputs": []
    },
    {
      "cell_type": "code",
      "source": [
        "# Limit data to short term rental listings only\n",
        "# As definition of Airbnb, long term rental are 28 days or longer\n",
        "df = df[(df['minimum_nights'] > 0) & (df['minimum_nights'] < 28)]"
      ],
      "metadata": {
        "id": "uQFS5XPEi2B8"
      },
      "execution_count": 15,
      "outputs": []
    },
    {
      "cell_type": "code",
      "source": [
        "df.shape"
      ],
      "metadata": {
        "colab": {
          "base_uri": "https://localhost:8080/"
        },
        "id": "Dtw7NJerAD0n",
        "outputId": "245d8ad9-eef7-4037-d1ff-a20e1ddeebbd"
      },
      "execution_count": 16,
      "outputs": [
        {
          "output_type": "execute_result",
          "data": {
            "text/plain": [
              "(17199, 74)"
            ]
          },
          "metadata": {},
          "execution_count": 16
        }
      ]
    },
    {
      "cell_type": "markdown",
      "source": [
        "After limiting the data, there are 17,199 rows till now. "
      ],
      "metadata": {
        "id": "JGHgGlLvAIU5"
      }
    },
    {
      "cell_type": "code",
      "source": [
        "df['count_amenities'] = df['amenities'].apply(lambda x: len(re.split('\", \"',x)))"
      ],
      "metadata": {
        "id": "-h2DiUQ317Rb"
      },
      "execution_count": 17,
      "outputs": []
    },
    {
      "cell_type": "markdown",
      "source": [
        "## Insights"
      ],
      "metadata": {
        "id": "46dtNWZljAy5"
      }
    },
    {
      "cell_type": "markdown",
      "source": [
        "### Size of listing"
      ],
      "metadata": {
        "id": "C7fG5lOxjmoY"
      }
    },
    {
      "cell_type": "markdown",
      "source": [
        "The definition of listing size here is used along with variable called `accommodates`, which is defined as the maximum capacity of the listing.\n"
      ],
      "metadata": {
        "id": "QGH_jk4a-hhX"
      }
    },
    {
      "cell_type": "markdown",
      "source": [
        "Firstly, let's have a look on the distribution of this variable:"
      ],
      "metadata": {
        "id": "kTICYSCA-dNd"
      }
    },
    {
      "cell_type": "code",
      "source": [
        "df['accommodates'].describe()"
      ],
      "metadata": {
        "id": "pwY3xSjzWNom",
        "outputId": "3483b6c3-af68-45ea-b403-d067b654a39f",
        "colab": {
          "base_uri": "https://localhost:8080/"
        }
      },
      "execution_count": 18,
      "outputs": [
        {
          "output_type": "execute_result",
          "data": {
            "text/plain": [
              "count    17199.000000\n",
              "mean         4.429385\n",
              "std          3.051426\n",
              "min          0.000000\n",
              "25%          2.000000\n",
              "50%          4.000000\n",
              "75%          6.000000\n",
              "max         16.000000\n",
              "Name: accommodates, dtype: float64"
            ]
          },
          "metadata": {},
          "execution_count": 18
        }
      ]
    },
    {
      "cell_type": "markdown",
      "source": [
        "Then, we again limit the dataset which contains maximum capacity from at least 1 and above, and assign to `df_size`"
      ],
      "metadata": {
        "id": "rq5niG78_-o1"
      }
    },
    {
      "cell_type": "code",
      "source": [
        "# Limit accommodates to at least 1 and above\n",
        "df_size = df[df['accommodates'] > 0]"
      ],
      "metadata": {
        "id": "HctcrViei35U"
      },
      "execution_count": 19,
      "outputs": []
    },
    {
      "cell_type": "markdown",
      "source": [
        "Instead of plotting every single points (between `accommodates` and `rs_value`) to the graph, in order to see a much clearer picture, we will group all the points for each value of one variable by the aggregation of the metric. <br>\n",
        "\n",
        "For example, as `accommodates` of the dataset varies from 1 to 16, we first group all observations of `accommodates` as 1 by calculating the median of value rating of these observations. As a result, we will get 4.83 as the median rating score for all observations of `accommodates` = 1."
      ],
      "metadata": {
        "id": "KF4QmKxeuW-Q"
      }
    },
    {
      "cell_type": "code",
      "source": [
        "# Group accommodates with aggregation of value rating and assign to: plot_acc\n",
        "plot_acc = df_size.groupby('accommodates').agg({'rs_value':'median', 'id':'count'}).reset_index()\n",
        "plot_acc"
      ],
      "metadata": {
        "colab": {
          "base_uri": "https://localhost:8080/",
          "height": 551
        },
        "id": "OATqlk7_jGaN",
        "outputId": "09ccfd55-0684-4af1-8f3b-0089c3d17876"
      },
      "execution_count": 20,
      "outputs": [
        {
          "output_type": "execute_result",
          "data": {
            "text/plain": [
              "    accommodates  rs_value    id\n",
              "0              1     4.830  1206\n",
              "1              2     4.840  5506\n",
              "2              3     4.810  1205\n",
              "3              4     4.790  2986\n",
              "4              5     4.780   910\n",
              "5              6     4.750  2105\n",
              "6              7     4.750   448\n",
              "7              8     4.770  1281\n",
              "8              9     4.780   211\n",
              "9             10     4.770   597\n",
              "10            11     4.750    69\n",
              "11            12     4.770   272\n",
              "12            13     4.775    56\n",
              "13            14     4.805   110\n",
              "14            15     4.725    64\n",
              "15            16     4.750   170"
            ],
            "text/html": [
              "\n",
              "  <div id=\"df-df8a4235-7f2c-40e6-8cad-e0416fed3ad2\">\n",
              "    <div class=\"colab-df-container\">\n",
              "      <div>\n",
              "<style scoped>\n",
              "    .dataframe tbody tr th:only-of-type {\n",
              "        vertical-align: middle;\n",
              "    }\n",
              "\n",
              "    .dataframe tbody tr th {\n",
              "        vertical-align: top;\n",
              "    }\n",
              "\n",
              "    .dataframe thead th {\n",
              "        text-align: right;\n",
              "    }\n",
              "</style>\n",
              "<table border=\"1\" class=\"dataframe\">\n",
              "  <thead>\n",
              "    <tr style=\"text-align: right;\">\n",
              "      <th></th>\n",
              "      <th>accommodates</th>\n",
              "      <th>rs_value</th>\n",
              "      <th>id</th>\n",
              "    </tr>\n",
              "  </thead>\n",
              "  <tbody>\n",
              "    <tr>\n",
              "      <th>0</th>\n",
              "      <td>1</td>\n",
              "      <td>4.830</td>\n",
              "      <td>1206</td>\n",
              "    </tr>\n",
              "    <tr>\n",
              "      <th>1</th>\n",
              "      <td>2</td>\n",
              "      <td>4.840</td>\n",
              "      <td>5506</td>\n",
              "    </tr>\n",
              "    <tr>\n",
              "      <th>2</th>\n",
              "      <td>3</td>\n",
              "      <td>4.810</td>\n",
              "      <td>1205</td>\n",
              "    </tr>\n",
              "    <tr>\n",
              "      <th>3</th>\n",
              "      <td>4</td>\n",
              "      <td>4.790</td>\n",
              "      <td>2986</td>\n",
              "    </tr>\n",
              "    <tr>\n",
              "      <th>4</th>\n",
              "      <td>5</td>\n",
              "      <td>4.780</td>\n",
              "      <td>910</td>\n",
              "    </tr>\n",
              "    <tr>\n",
              "      <th>5</th>\n",
              "      <td>6</td>\n",
              "      <td>4.750</td>\n",
              "      <td>2105</td>\n",
              "    </tr>\n",
              "    <tr>\n",
              "      <th>6</th>\n",
              "      <td>7</td>\n",
              "      <td>4.750</td>\n",
              "      <td>448</td>\n",
              "    </tr>\n",
              "    <tr>\n",
              "      <th>7</th>\n",
              "      <td>8</td>\n",
              "      <td>4.770</td>\n",
              "      <td>1281</td>\n",
              "    </tr>\n",
              "    <tr>\n",
              "      <th>8</th>\n",
              "      <td>9</td>\n",
              "      <td>4.780</td>\n",
              "      <td>211</td>\n",
              "    </tr>\n",
              "    <tr>\n",
              "      <th>9</th>\n",
              "      <td>10</td>\n",
              "      <td>4.770</td>\n",
              "      <td>597</td>\n",
              "    </tr>\n",
              "    <tr>\n",
              "      <th>10</th>\n",
              "      <td>11</td>\n",
              "      <td>4.750</td>\n",
              "      <td>69</td>\n",
              "    </tr>\n",
              "    <tr>\n",
              "      <th>11</th>\n",
              "      <td>12</td>\n",
              "      <td>4.770</td>\n",
              "      <td>272</td>\n",
              "    </tr>\n",
              "    <tr>\n",
              "      <th>12</th>\n",
              "      <td>13</td>\n",
              "      <td>4.775</td>\n",
              "      <td>56</td>\n",
              "    </tr>\n",
              "    <tr>\n",
              "      <th>13</th>\n",
              "      <td>14</td>\n",
              "      <td>4.805</td>\n",
              "      <td>110</td>\n",
              "    </tr>\n",
              "    <tr>\n",
              "      <th>14</th>\n",
              "      <td>15</td>\n",
              "      <td>4.725</td>\n",
              "      <td>64</td>\n",
              "    </tr>\n",
              "    <tr>\n",
              "      <th>15</th>\n",
              "      <td>16</td>\n",
              "      <td>4.750</td>\n",
              "      <td>170</td>\n",
              "    </tr>\n",
              "  </tbody>\n",
              "</table>\n",
              "</div>\n",
              "      <button class=\"colab-df-convert\" onclick=\"convertToInteractive('df-df8a4235-7f2c-40e6-8cad-e0416fed3ad2')\"\n",
              "              title=\"Convert this dataframe to an interactive table.\"\n",
              "              style=\"display:none;\">\n",
              "        \n",
              "  <svg xmlns=\"http://www.w3.org/2000/svg\" height=\"24px\"viewBox=\"0 0 24 24\"\n",
              "       width=\"24px\">\n",
              "    <path d=\"M0 0h24v24H0V0z\" fill=\"none\"/>\n",
              "    <path d=\"M18.56 5.44l.94 2.06.94-2.06 2.06-.94-2.06-.94-.94-2.06-.94 2.06-2.06.94zm-11 1L8.5 8.5l.94-2.06 2.06-.94-2.06-.94L8.5 2.5l-.94 2.06-2.06.94zm10 10l.94 2.06.94-2.06 2.06-.94-2.06-.94-.94-2.06-.94 2.06-2.06.94z\"/><path d=\"M17.41 7.96l-1.37-1.37c-.4-.4-.92-.59-1.43-.59-.52 0-1.04.2-1.43.59L10.3 9.45l-7.72 7.72c-.78.78-.78 2.05 0 2.83L4 21.41c.39.39.9.59 1.41.59.51 0 1.02-.2 1.41-.59l7.78-7.78 2.81-2.81c.8-.78.8-2.07 0-2.86zM5.41 20L4 18.59l7.72-7.72 1.47 1.35L5.41 20z\"/>\n",
              "  </svg>\n",
              "      </button>\n",
              "      \n",
              "  <style>\n",
              "    .colab-df-container {\n",
              "      display:flex;\n",
              "      flex-wrap:wrap;\n",
              "      gap: 12px;\n",
              "    }\n",
              "\n",
              "    .colab-df-convert {\n",
              "      background-color: #E8F0FE;\n",
              "      border: none;\n",
              "      border-radius: 50%;\n",
              "      cursor: pointer;\n",
              "      display: none;\n",
              "      fill: #1967D2;\n",
              "      height: 32px;\n",
              "      padding: 0 0 0 0;\n",
              "      width: 32px;\n",
              "    }\n",
              "\n",
              "    .colab-df-convert:hover {\n",
              "      background-color: #E2EBFA;\n",
              "      box-shadow: 0px 1px 2px rgba(60, 64, 67, 0.3), 0px 1px 3px 1px rgba(60, 64, 67, 0.15);\n",
              "      fill: #174EA6;\n",
              "    }\n",
              "\n",
              "    [theme=dark] .colab-df-convert {\n",
              "      background-color: #3B4455;\n",
              "      fill: #D2E3FC;\n",
              "    }\n",
              "\n",
              "    [theme=dark] .colab-df-convert:hover {\n",
              "      background-color: #434B5C;\n",
              "      box-shadow: 0px 1px 3px 1px rgba(0, 0, 0, 0.15);\n",
              "      filter: drop-shadow(0px 1px 2px rgba(0, 0, 0, 0.3));\n",
              "      fill: #FFFFFF;\n",
              "    }\n",
              "  </style>\n",
              "\n",
              "      <script>\n",
              "        const buttonEl =\n",
              "          document.querySelector('#df-df8a4235-7f2c-40e6-8cad-e0416fed3ad2 button.colab-df-convert');\n",
              "        buttonEl.style.display =\n",
              "          google.colab.kernel.accessAllowed ? 'block' : 'none';\n",
              "\n",
              "        async function convertToInteractive(key) {\n",
              "          const element = document.querySelector('#df-df8a4235-7f2c-40e6-8cad-e0416fed3ad2');\n",
              "          const dataTable =\n",
              "            await google.colab.kernel.invokeFunction('convertToInteractive',\n",
              "                                                     [key], {});\n",
              "          if (!dataTable) return;\n",
              "\n",
              "          const docLinkHtml = 'Like what you see? Visit the ' +\n",
              "            '<a target=\"_blank\" href=https://colab.research.google.com/notebooks/data_table.ipynb>data table notebook</a>'\n",
              "            + ' to learn more about interactive tables.';\n",
              "          element.innerHTML = '';\n",
              "          dataTable['output_type'] = 'display_data';\n",
              "          await google.colab.output.renderOutput(dataTable, element);\n",
              "          const docLink = document.createElement('div');\n",
              "          docLink.innerHTML = docLinkHtml;\n",
              "          element.appendChild(docLink);\n",
              "        }\n",
              "      </script>\n",
              "    </div>\n",
              "  </div>\n",
              "  "
            ]
          },
          "metadata": {},
          "execution_count": 20
        }
      ]
    },
    {
      "cell_type": "markdown",
      "source": [
        "Now, we can plot above this table into the regression plot to see whether there is any trends existed. "
      ],
      "metadata": {
        "id": "f2ZWGk4dwD0r"
      }
    },
    {
      "cell_type": "code",
      "source": [
        "plt.figure(figsize=(10,7))\n",
        "sns.regplot(data=plot_acc, x='accommodates', y='rs_value', color='tomato')\n",
        "plt.title('Correlation between Accommodates and Value rating score')\n",
        "plt.xlabel('Maximum capacity of guest (guests)')\n",
        "plt.ylabel('Value rating score (points)')\n",
        "plt.show()"
      ],
      "metadata": {
        "colab": {
          "base_uri": "https://localhost:8080/",
          "height": 464
        },
        "id": "7CQaVqxcW1PK",
        "outputId": "d49fab6a-3864-4079-bcbb-322b9b77ebd7"
      },
      "execution_count": 21,
      "outputs": [
        {
          "output_type": "display_data",
          "data": {
            "text/plain": [
              "<Figure size 720x504 with 1 Axes>"
            ],
            "image/png": "[encoded data removed]"
          },
          "metadata": {}
        }
      ]
    },
    {
      "cell_type": "markdown",
      "source": [
        "We can see a negative correlation between `accommodates` and `rs_value`. Listings that can accommodate a high number of guests get lower value rating than listings with maximum capacity of 3 guests or below."
      ],
      "metadata": {
        "id": "WS-FtlENwMtk"
      }
    },
    {
      "cell_type": "markdown",
      "source": [
        "In an article called \"The Elements of Value\" published on HRB Review on September 2016, the authors started their article with a declaration to show a relationship between value and price: <br>\n",
        "***When customers evaluate a product or service, they weigh its perceived value against the asking price.***"
      ],
      "metadata": {
        "id": "4RtJL-hgAwxd"
      }
    },
    {
      "cell_type": "markdown",
      "source": [
        "[Eric Almquist, John Senior, and Nicolas Bloch _ HBR September 2016](https://hbr.org/2016/09/the-elements-of-value)"
      ],
      "metadata": {
        "id": "faNAjwC_BiZA"
      }
    },
    {
      "cell_type": "markdown",
      "source": [
        "By referring to this definition, back to this analysis, we realize there might be a trend in common between value rating and price. Let's visualize `accommodates` and `price` on boxplot chart. "
      ],
      "metadata": {
        "id": "SJoAmHaG61vY"
      }
    },
    {
      "cell_type": "code",
      "source": [
        "plt.figure(figsize=(10,7))\n",
        "sns.boxplot(data=df_size, x='accommodates', y='price')\n",
        "plt.ylim(0,3500)\n",
        "plt.title('Range of price in each level of maximum capacity of listings')\n",
        "plt.ylabel('Price ($)')\n",
        "plt.xlabel('Maximum capacity of listing (guests)')\n",
        "plt.show()"
      ],
      "metadata": {
        "colab": {
          "base_uri": "https://localhost:8080/",
          "height": 464
        },
        "id": "RPVcvwj31ris",
        "outputId": "4ff1af38-553c-4272-a27c-821655a894ad"
      },
      "execution_count": 22,
      "outputs": [
        {
          "output_type": "display_data",
          "data": {
            "text/plain": [
              "<Figure size 720x504 with 1 Axes>"
            ],
            "image/png": "[encoded data removed]"
          },
          "metadata": {}
        }
      ]
    },
    {
      "cell_type": "markdown",
      "source": [
        "Overall, we can see that the position of box plot in more `accommodates` tend to get higher places, which means the price goes up with the increasing of listing size. <br>\n",
        "Moreover, listings that can accommodates up to 4 guests and above have a long length of box, which also means a much wider range of price than listings with maximum capacity of 3 guests or below."
      ],
      "metadata": {
        "id": "4YJzeGu24s5w"
      }
    },
    {
      "cell_type": "code",
      "source": [
        "plt.figure(figsize=(20,7))\n",
        "\n",
        "plt.subplot(121)\n",
        "sns.regplot(data=plot_acc, x='accommodates', y='rs_value', color='tomato')\n",
        "plt.title('Correlation between Accommodates and Value rating score')\n",
        "plt.xlabel('Maximum capacity of guest (guests)')\n",
        "plt.ylabel('Value rating score (points)')\n",
        "\n",
        "plt.subplot(122)\n",
        "sns.boxplot(data=df_size, x='accommodates', y='price')\n",
        "plt.ylim(0,3500)\n",
        "plt.title('Range of price in each level of maximum capacity of listings')\n",
        "plt.ylabel('Price ($)')\n",
        "plt.xlabel('Maximum capacity of listing (guests)')\n",
        "\n",
        "plt.show()"
      ],
      "metadata": {
        "colab": {
          "base_uri": "https://localhost:8080/",
          "height": 464
        },
        "id": "6ugTWH76EcOa",
        "outputId": "dcc6f412-b66a-4101-adf8-dcf758846955"
      },
      "execution_count": 23,
      "outputs": [
        {
          "output_type": "display_data",
          "data": {
            "text/plain": [
              "<Figure size 1440x504 with 2 Axes>"
            ],
            "image/png": "[encoded data removed]"
          },
          "metadata": {}
        }
      ]
    },
    {
      "cell_type": "markdown",
      "source": [
        "By putting 2 graphs next to each other, in general, listings with a high maximum capacity of guests have higher price levels with wider range of price but get a lower score on median average in value rating than listings accommodating less guests. "
      ],
      "metadata": {
        "id": "JwTPLoVrEsJh"
      }
    },
    {
      "cell_type": "markdown",
      "source": [
        "In order to explain the above idea more clearly, we can limit and compare data between listings can take up to 16 guests and 2 guests seperately as an ideal example with below characterisctic: \n",
        "- must be in same place (`neighbourhood_city`)\n",
        "- must be in the same market segmentation (`room_type`) "
      ],
      "metadata": {
        "id": "vkRYsC0O3p6E"
      }
    },
    {
      "cell_type": "markdown",
      "source": [
        "We can limit data to places where hosts are setting maximum capacity of guests at 2 and 16, with the type of room is Entire home/apt. "
      ],
      "metadata": {
        "id": "_fFOmG-F5GaI"
      }
    },
    {
      "cell_type": "code",
      "source": [
        "df_acc_compare = df[((df['accommodates'] == 2) | (df['accommodates'] == 16)) & (df['room_type'] == 'Entire home/apt')]"
      ],
      "metadata": {
        "id": "ErZyWxd8LQVv"
      },
      "execution_count": 24,
      "outputs": []
    },
    {
      "cell_type": "code",
      "source": [
        "acc_table = pd.pivot_table(data=df_acc_compare, \n",
        "               index='neighbourhood_city',\n",
        "               columns='accommodates', \n",
        "               values='id', \n",
        "               aggfunc='count')\n",
        "\n",
        "acc_table = acc_table.dropna()\n",
        "\n",
        "# Limit data to places where the supply of listing is at least 2 or above \n",
        "acc_table = acc_table[(acc_table[2] > 2) & (acc_table[16] > 2)]\n",
        "\n",
        "acc_table = acc_table.reset_index()\n",
        "\n",
        "acc_table"
      ],
      "metadata": {
        "colab": {
          "base_uri": "https://localhost:8080/",
          "height": 394
        },
        "id": "maCqGGq70UV2",
        "outputId": "de19e09d-f8ce-4ab5-e817-a25cba689ee3"
      },
      "execution_count": 25,
      "outputs": [
        {
          "output_type": "execute_result",
          "data": {
            "text/plain": [
              "accommodates                     neighbourhood_city     2    16\n",
              "0                                           Anaheim   6.0  21.0\n",
              "1                                     Beverly Crest   6.0   3.0\n",
              "2                                          Downtown  22.0   3.0\n",
              "3                                         Fullerton   4.0   8.0\n",
              "4                                   Hollywood Hills  32.0   4.0\n",
              "5                                     Newport Beach  41.0  11.0\n",
              "6                                   Rowland Heights  10.0   9.0\n",
              "7                                         Santa Ana  24.0   8.0\n",
              "8                                      Sherman Oaks  22.0   5.0\n",
              "9             Unincorporated Santa Monica Mountains  29.0  10.0\n",
              "10                                   Woodland Hills   6.0   3.0"
            ],
            "text/html": [
              "\n",
              "  <div id=\"df-5dcda42d-d052-4969-a87e-b046b006488d\">\n",
              "    <div class=\"colab-df-container\">\n",
              "      <div>\n",
              "<style scoped>\n",
              "    .dataframe tbody tr th:only-of-type {\n",
              "        vertical-align: middle;\n",
              "    }\n",
              "\n",
              "    .dataframe tbody tr th {\n",
              "        vertical-align: top;\n",
              "    }\n",
              "\n",
              "    .dataframe thead th {\n",
              "        text-align: right;\n",
              "    }\n",
              "</style>\n",
              "<table border=\"1\" class=\"dataframe\">\n",
              "  <thead>\n",
              "    <tr style=\"text-align: right;\">\n",
              "      <th>accommodates</th>\n",
              "      <th>neighbourhood_city</th>\n",
              "      <th>2</th>\n",
              "      <th>16</th>\n",
              "    </tr>\n",
              "  </thead>\n",
              "  <tbody>\n",
              "    <tr>\n",
              "      <th>0</th>\n",
              "      <td>Anaheim</td>\n",
              "      <td>6.0</td>\n",
              "      <td>21.0</td>\n",
              "    </tr>\n",
              "    <tr>\n",
              "      <th>1</th>\n",
              "      <td>Beverly Crest</td>\n",
              "      <td>6.0</td>\n",
              "      <td>3.0</td>\n",
              "    </tr>\n",
              "    <tr>\n",
              "      <th>2</th>\n",
              "      <td>Downtown</td>\n",
              "      <td>22.0</td>\n",
              "      <td>3.0</td>\n",
              "    </tr>\n",
              "    <tr>\n",
              "      <th>3</th>\n",
              "      <td>Fullerton</td>\n",
              "      <td>4.0</td>\n",
              "      <td>8.0</td>\n",
              "    </tr>\n",
              "    <tr>\n",
              "      <th>4</th>\n",
              "      <td>Hollywood Hills</td>\n",
              "      <td>32.0</td>\n",
              "      <td>4.0</td>\n",
              "    </tr>\n",
              "    <tr>\n",
              "      <th>5</th>\n",
              "      <td>Newport Beach</td>\n",
              "      <td>41.0</td>\n",
              "      <td>11.0</td>\n",
              "    </tr>\n",
              "    <tr>\n",
              "      <th>6</th>\n",
              "      <td>Rowland Heights</td>\n",
              "      <td>10.0</td>\n",
              "      <td>9.0</td>\n",
              "    </tr>\n",
              "    <tr>\n",
              "      <th>7</th>\n",
              "      <td>Santa Ana</td>\n",
              "      <td>24.0</td>\n",
              "      <td>8.0</td>\n",
              "    </tr>\n",
              "    <tr>\n",
              "      <th>8</th>\n",
              "      <td>Sherman Oaks</td>\n",
              "      <td>22.0</td>\n",
              "      <td>5.0</td>\n",
              "    </tr>\n",
              "    <tr>\n",
              "      <th>9</th>\n",
              "      <td>Unincorporated Santa Monica Mountains</td>\n",
              "      <td>29.0</td>\n",
              "      <td>10.0</td>\n",
              "    </tr>\n",
              "    <tr>\n",
              "      <th>10</th>\n",
              "      <td>Woodland Hills</td>\n",
              "      <td>6.0</td>\n",
              "      <td>3.0</td>\n",
              "    </tr>\n",
              "  </tbody>\n",
              "</table>\n",
              "</div>\n",
              "      <button class=\"colab-df-convert\" onclick=\"convertToInteractive('df-5dcda42d-d052-4969-a87e-b046b006488d')\"\n",
              "              title=\"Convert this dataframe to an interactive table.\"\n",
              "              style=\"display:none;\">\n",
              "        \n",
              "  <svg xmlns=\"http://www.w3.org/2000/svg\" height=\"24px\"viewBox=\"0 0 24 24\"\n",
              "       width=\"24px\">\n",
              "    <path d=\"M0 0h24v24H0V0z\" fill=\"none\"/>\n",
              "    <path d=\"M18.56 5.44l.94 2.06.94-2.06 2.06-.94-2.06-.94-.94-2.06-.94 2.06-2.06.94zm-11 1L8.5 8.5l.94-2.06 2.06-.94-2.06-.94L8.5 2.5l-.94 2.06-2.06.94zm10 10l.94 2.06.94-2.06 2.06-.94-2.06-.94-.94-2.06-.94 2.06-2.06.94z\"/><path d=\"M17.41 7.96l-1.37-1.37c-.4-.4-.92-.59-1.43-.59-.52 0-1.04.2-1.43.59L10.3 9.45l-7.72 7.72c-.78.78-.78 2.05 0 2.83L4 21.41c.39.39.9.59 1.41.59.51 0 1.02-.2 1.41-.59l7.78-7.78 2.81-2.81c.8-.78.8-2.07 0-2.86zM5.41 20L4 18.59l7.72-7.72 1.47 1.35L5.41 20z\"/>\n",
              "  </svg>\n",
              "      </button>\n",
              "      \n",
              "  <style>\n",
              "    .colab-df-container {\n",
              "      display:flex;\n",
              "      flex-wrap:wrap;\n",
              "      gap: 12px;\n",
              "    }\n",
              "\n",
              "    .colab-df-convert {\n",
              "      background-color: #E8F0FE;\n",
              "      border: none;\n",
              "      border-radius: 50%;\n",
              "      cursor: pointer;\n",
              "      display: none;\n",
              "      fill: #1967D2;\n",
              "      height: 32px;\n",
              "      padding: 0 0 0 0;\n",
              "      width: 32px;\n",
              "    }\n",
              "\n",
              "    .colab-df-convert:hover {\n",
              "      background-color: #E2EBFA;\n",
              "      box-shadow: 0px 1px 2px rgba(60, 64, 67, 0.3), 0px 1px 3px 1px rgba(60, 64, 67, 0.15);\n",
              "      fill: #174EA6;\n",
              "    }\n",
              "\n",
              "    [theme=dark] .colab-df-convert {\n",
              "      background-color: #3B4455;\n",
              "      fill: #D2E3FC;\n",
              "    }\n",
              "\n",
              "    [theme=dark] .colab-df-convert:hover {\n",
              "      background-color: #434B5C;\n",
              "      box-shadow: 0px 1px 3px 1px rgba(0, 0, 0, 0.15);\n",
              "      filter: drop-shadow(0px 1px 2px rgba(0, 0, 0, 0.3));\n",
              "      fill: #FFFFFF;\n",
              "    }\n",
              "  </style>\n",
              "\n",
              "      <script>\n",
              "        const buttonEl =\n",
              "          document.querySelector('#df-5dcda42d-d052-4969-a87e-b046b006488d button.colab-df-convert');\n",
              "        buttonEl.style.display =\n",
              "          google.colab.kernel.accessAllowed ? 'block' : 'none';\n",
              "\n",
              "        async function convertToInteractive(key) {\n",
              "          const element = document.querySelector('#df-5dcda42d-d052-4969-a87e-b046b006488d');\n",
              "          const dataTable =\n",
              "            await google.colab.kernel.invokeFunction('convertToInteractive',\n",
              "                                                     [key], {});\n",
              "          if (!dataTable) return;\n",
              "\n",
              "          const docLinkHtml = 'Like what you see? Visit the ' +\n",
              "            '<a target=\"_blank\" href=https://colab.research.google.com/notebooks/data_table.ipynb>data table notebook</a>'\n",
              "            + ' to learn more about interactive tables.';\n",
              "          element.innerHTML = '';\n",
              "          dataTable['output_type'] = 'display_data';\n",
              "          await google.colab.output.renderOutput(dataTable, element);\n",
              "          const docLink = document.createElement('div');\n",
              "          docLink.innerHTML = docLinkHtml;\n",
              "          element.appendChild(docLink);\n",
              "        }\n",
              "      </script>\n",
              "    </div>\n",
              "  </div>\n",
              "  "
            ]
          },
          "metadata": {},
          "execution_count": 25
        }
      ]
    },
    {
      "cell_type": "markdown",
      "source": [
        "The above table show the number of listings that are accommodating at 2 and 16 guests in neighbourhoods that are available only. We can randomly select 2 places for data visualization. <br>"
      ],
      "metadata": {
        "id": "Y0ypgruo5Wgh"
      }
    },
    {
      "cell_type": "markdown",
      "source": [
        "In this case, we will take **Anaheim** (where the supply of 16 guests of capacity surpasses the supply of 2) and **Sherman Oaks** (which is reversed to Anaheim) as examples:"
      ],
      "metadata": {
        "id": "0fnPOEXD7IOL"
      }
    },
    {
      "cell_type": "code",
      "source": [
        "df_acc16 = df[(df['accommodates'] == 16) & (df['room_type'] == 'Entire home/apt')]\n",
        "df_acc2 = df[(df['accommodates'] == 2) & (df['room_type'] == 'Entire home/apt')]"
      ],
      "metadata": {
        "id": "xOw5b9kq8aGK"
      },
      "execution_count": 26,
      "outputs": []
    },
    {
      "cell_type": "code",
      "source": [
        "# Data viz for Anaheim\n",
        "plt.figure(figsize=(20,4))\n",
        "\n",
        "plt.subplot(221)\n",
        "ax1 = sns.boxplot(data=df_acc2[df_acc2['neighbourhood_city'] == 'Anaheim'], x='price', color='skyblue')\n",
        "plt.xlim(0, 1750)\n",
        "ax1.set(xlabel=None)\n",
        "ax1.set(xticklabels=[])\n",
        "plt.title('Price distribution between 2 (above) and 16 (below) accommodates in Anaheim')\n",
        "\n",
        "plt.subplot(223)\n",
        "ax3 = sns.boxplot(data=df_acc16[df_acc16['neighbourhood_city'] == 'Anaheim'], x='price', color='deepskyblue')\n",
        "plt.xlim(0, 1750)\n",
        "plt.xlabel('Price range ($)')\n",
        "\n",
        "plt.subplot(222)\n",
        "ax2 = sns.boxplot(data=df_acc2[df_acc2['neighbourhood_city'] == 'Anaheim'], x='rs_value', color='lightsalmon')\n",
        "plt.xlim(4,5)\n",
        "ax2.set(xlabel=None)\n",
        "ax2.set(xticklabels=[])\n",
        "plt.title('Value rating score distribution between 2 (above) and 16 (below)accommodates in Anaheim')\n",
        "\n",
        "plt.subplot(224)\n",
        "ax4 = sns.boxplot(data=df_acc16[df_acc16['neighbourhood_city'] == 'Anaheim'], x='rs_value', color='tomato')\n",
        "plt.xlim(4,5)\n",
        "plt.xlabel('Value rating score range (points)')\n",
        "\n",
        "plt.show()"
      ],
      "metadata": {
        "colab": {
          "base_uri": "https://localhost:8080/",
          "height": 301
        },
        "id": "9e3j6wVP7Vum",
        "outputId": "db161a29-4ecf-4920-bc23-9c59ac204637"
      },
      "execution_count": 27,
      "outputs": [
        {
          "output_type": "display_data",
          "data": {
            "text/plain": [
              "<Figure size 1440x288 with 4 Axes>"
            ],
            "image/png": "[encoded data removed]"
          },
          "metadata": {}
        }
      ]
    },
    {
      "cell_type": "code",
      "source": [
        "# Data viz for Sherman Oaks\n",
        "plt.figure(figsize=(20,4))\n",
        "\n",
        "plt.subplot(221)\n",
        "ax1 = sns.boxplot(data=df_acc2[df_acc2['neighbourhood_city'] == 'Sherman Oaks'], x='price', color='skyblue')\n",
        "plt.xlim(0, 1500)\n",
        "ax1.set(xlabel=None)\n",
        "ax1.set(xticklabels=[])\n",
        "plt.title('Price distribution between 2 (above) and 16 (below) accommodates in Sherman Oaks')\n",
        "\n",
        "plt.subplot(223)\n",
        "ax3 = sns.boxplot(data=df_acc16[df_acc16['neighbourhood_city'] == 'Sherman Oaks'], x='price', color='deepskyblue')\n",
        "plt.xlim(0, 1500)\n",
        "plt.xlabel('Price range ($)')\n",
        "\n",
        "plt.subplot(222)\n",
        "ax2 = sns.boxplot(data=df_acc2[df_acc2['neighbourhood_city'] == 'Sherman Oaks'], x='rs_value', color='lightsalmon')\n",
        "plt.xlim(4,5)\n",
        "ax2.set(xlabel=None)\n",
        "ax2.set(xticklabels=[])\n",
        "plt.title('Value rating score distribution between 2 (above) and 16 (below) accommodates in Sherman Oaks')\n",
        "\n",
        "plt.subplot(224)\n",
        "ax4 = sns.boxplot(data=df_acc16[df_acc16['neighbourhood_city'] == 'Sherman Oaks'], x='rs_value', color='tomato')\n",
        "plt.xlim(4,5)\n",
        "plt.xlabel('Value rating score range (points)')\n",
        "\n",
        "plt.show()"
      ],
      "metadata": {
        "colab": {
          "base_uri": "https://localhost:8080/",
          "height": 301
        },
        "id": "FgY0djZpz68B",
        "outputId": "294f14f1-22a0-4e13-b5d8-579b26fb56b7"
      },
      "execution_count": 28,
      "outputs": [
        {
          "output_type": "display_data",
          "data": {
            "text/plain": [
              "<Figure size 1440x288 with 4 Axes>"
            ],
            "image/png": "[encoded data removed]"
          },
          "metadata": {}
        }
      ]
    },
    {
      "cell_type": "markdown",
      "source": [
        "Overall, we can see that despite of different neighbourhoods, when there is a narrow range of price, the same pattern occurs to value rating and vice versa. <br>\n",
        "However, in general, the clearer picture is that when there is a relatively similar price between listings, guests give quite the same score of value rating, and they are almost the high ones. <br> \n",
        "Meanwhile, when there is such a wide range of price varies from a low to extreme high price with many options offered accordingly, guests tend to give different ranges of score based on whether they felt these listings worth the money or not. "
      ],
      "metadata": {
        "id": "ROmYbpQJ7pkg"
      }
    },
    {
      "cell_type": "markdown",
      "source": [
        "In order to understand the above approach in Airbnb case, we can analysis the listing density in each neighbourhood to see if there is a lot choices in one neighbourhood, how will the value rating vary? "
      ],
      "metadata": {
        "id": "OnECSkuzgXoT"
      }
    },
    {
      "cell_type": "markdown",
      "source": [
        "### Number of listings in one neighbourhood"
      ],
      "metadata": {
        "id": "2GAfujoUd8QQ"
      }
    },
    {
      "cell_type": "markdown",
      "source": [
        "First, we count the number of listings and calculate median score of value rating in each neighbourhood from the main dataset."
      ],
      "metadata": {
        "id": "z9l7EPdojB5B"
      }
    },
    {
      "cell_type": "code",
      "source": [
        "place_count = df.groupby('neighbourhood_city').agg({'id':'count', 'rs_value':'median'})"
      ],
      "metadata": {
        "id": "eiea6VG8ksr_"
      },
      "execution_count": 29,
      "outputs": []
    },
    {
      "cell_type": "code",
      "source": [
        "place_count = place_count.rename(columns={'id':'total_listings'})"
      ],
      "metadata": {
        "id": "2-kPkpZBlbRY"
      },
      "execution_count": 30,
      "outputs": []
    },
    {
      "cell_type": "code",
      "source": [
        "place_count = place_count.reset_index()\n",
        "place_count"
      ],
      "metadata": {
        "colab": {
          "base_uri": "https://localhost:8080/",
          "height": 424
        },
        "id": "m0ayHez-ldfc",
        "outputId": "74cc12d4-04b0-4e43-f4dc-c22e723f0aa1"
      },
      "execution_count": 31,
      "outputs": [
        {
          "output_type": "execute_result",
          "data": {
            "text/plain": [
              "    neighbourhood_city  total_listings  rs_value\n",
              "0                Acton               5      4.97\n",
              "1      Adams-Normandie               2      4.50\n",
              "2         Agoura Hills              37      4.91\n",
              "3           Agua Dulce              13      4.87\n",
              "4             Alhambra             300      4.77\n",
              "..                 ...             ...       ...\n",
              "293         Wilmington              15      4.73\n",
              "294     Windsor Square               5      4.91\n",
              "295           Winnetka              24      4.86\n",
              "296     Woodland Hills              79      4.82\n",
              "297        Yorba Linda               4      4.82\n",
              "\n",
              "[298 rows x 3 columns]"
            ],
            "text/html": [
              "\n",
              "  <div id=\"df-578777d1-95d5-4be1-a5c5-51cd4f0fe875\">\n",
              "    <div class=\"colab-df-container\">\n",
              "      <div>\n",
              "<style scoped>\n",
              "    .dataframe tbody tr th:only-of-type {\n",
              "        vertical-align: middle;\n",
              "    }\n",
              "\n",
              "    .dataframe tbody tr th {\n",
              "        vertical-align: top;\n",
              "    }\n",
              "\n",
              "    .dataframe thead th {\n",
              "        text-align: right;\n",
              "    }\n",
              "</style>\n",
              "<table border=\"1\" class=\"dataframe\">\n",
              "  <thead>\n",
              "    <tr style=\"text-align: right;\">\n",
              "      <th></th>\n",
              "      <th>neighbourhood_city</th>\n",
              "      <th>total_listings</th>\n",
              "      <th>rs_value</th>\n",
              "    </tr>\n",
              "  </thead>\n",
              "  <tbody>\n",
              "    <tr>\n",
              "      <th>0</th>\n",
              "      <td>Acton</td>\n",
              "      <td>5</td>\n",
              "      <td>4.97</td>\n",
              "    </tr>\n",
              "    <tr>\n",
              "      <th>1</th>\n",
              "      <td>Adams-Normandie</td>\n",
              "      <td>2</td>\n",
              "      <td>4.50</td>\n",
              "    </tr>\n",
              "    <tr>\n",
              "      <th>2</th>\n",
              "      <td>Agoura Hills</td>\n",
              "      <td>37</td>\n",
              "      <td>4.91</td>\n",
              "    </tr>\n",
              "    <tr>\n",
              "      <th>3</th>\n",
              "      <td>Agua Dulce</td>\n",
              "      <td>13</td>\n",
              "      <td>4.87</td>\n",
              "    </tr>\n",
              "    <tr>\n",
              "      <th>4</th>\n",
              "      <td>Alhambra</td>\n",
              "      <td>300</td>\n",
              "      <td>4.77</td>\n",
              "    </tr>\n",
              "    <tr>\n",
              "      <th>...</th>\n",
              "      <td>...</td>\n",
              "      <td>...</td>\n",
              "      <td>...</td>\n",
              "    </tr>\n",
              "    <tr>\n",
              "      <th>293</th>\n",
              "      <td>Wilmington</td>\n",
              "      <td>15</td>\n",
              "      <td>4.73</td>\n",
              "    </tr>\n",
              "    <tr>\n",
              "      <th>294</th>\n",
              "      <td>Windsor Square</td>\n",
              "      <td>5</td>\n",
              "      <td>4.91</td>\n",
              "    </tr>\n",
              "    <tr>\n",
              "      <th>295</th>\n",
              "      <td>Winnetka</td>\n",
              "      <td>24</td>\n",
              "      <td>4.86</td>\n",
              "    </tr>\n",
              "    <tr>\n",
              "      <th>296</th>\n",
              "      <td>Woodland Hills</td>\n",
              "      <td>79</td>\n",
              "      <td>4.82</td>\n",
              "    </tr>\n",
              "    <tr>\n",
              "      <th>297</th>\n",
              "      <td>Yorba Linda</td>\n",
              "      <td>4</td>\n",
              "      <td>4.82</td>\n",
              "    </tr>\n",
              "  </tbody>\n",
              "</table>\n",
              "<p>298 rows × 3 columns</p>\n",
              "</div>\n",
              "      <button class=\"colab-df-convert\" onclick=\"convertToInteractive('df-578777d1-95d5-4be1-a5c5-51cd4f0fe875')\"\n",
              "              title=\"Convert this dataframe to an interactive table.\"\n",
              "              style=\"display:none;\">\n",
              "        \n",
              "  <svg xmlns=\"http://www.w3.org/2000/svg\" height=\"24px\"viewBox=\"0 0 24 24\"\n",
              "       width=\"24px\">\n",
              "    <path d=\"M0 0h24v24H0V0z\" fill=\"none\"/>\n",
              "    <path d=\"M18.56 5.44l.94 2.06.94-2.06 2.06-.94-2.06-.94-.94-2.06-.94 2.06-2.06.94zm-11 1L8.5 8.5l.94-2.06 2.06-.94-2.06-.94L8.5 2.5l-.94 2.06-2.06.94zm10 10l.94 2.06.94-2.06 2.06-.94-2.06-.94-.94-2.06-.94 2.06-2.06.94z\"/><path d=\"M17.41 7.96l-1.37-1.37c-.4-.4-.92-.59-1.43-.59-.52 0-1.04.2-1.43.59L10.3 9.45l-7.72 7.72c-.78.78-.78 2.05 0 2.83L4 21.41c.39.39.9.59 1.41.59.51 0 1.02-.2 1.41-.59l7.78-7.78 2.81-2.81c.8-.78.8-2.07 0-2.86zM5.41 20L4 18.59l7.72-7.72 1.47 1.35L5.41 20z\"/>\n",
              "  </svg>\n",
              "      </button>\n",
              "      \n",
              "  <style>\n",
              "    .colab-df-container {\n",
              "      display:flex;\n",
              "      flex-wrap:wrap;\n",
              "      gap: 12px;\n",
              "    }\n",
              "\n",
              "    .colab-df-convert {\n",
              "      background-color: #E8F0FE;\n",
              "      border: none;\n",
              "      border-radius: 50%;\n",
              "      cursor: pointer;\n",
              "      display: none;\n",
              "      fill: #1967D2;\n",
              "      height: 32px;\n",
              "      padding: 0 0 0 0;\n",
              "      width: 32px;\n",
              "    }\n",
              "\n",
              "    .colab-df-convert:hover {\n",
              "      background-color: #E2EBFA;\n",
              "      box-shadow: 0px 1px 2px rgba(60, 64, 67, 0.3), 0px 1px 3px 1px rgba(60, 64, 67, 0.15);\n",
              "      fill: #174EA6;\n",
              "    }\n",
              "\n",
              "    [theme=dark] .colab-df-convert {\n",
              "      background-color: #3B4455;\n",
              "      fill: #D2E3FC;\n",
              "    }\n",
              "\n",
              "    [theme=dark] .colab-df-convert:hover {\n",
              "      background-color: #434B5C;\n",
              "      box-shadow: 0px 1px 3px 1px rgba(0, 0, 0, 0.15);\n",
              "      filter: drop-shadow(0px 1px 2px rgba(0, 0, 0, 0.3));\n",
              "      fill: #FFFFFF;\n",
              "    }\n",
              "  </style>\n",
              "\n",
              "      <script>\n",
              "        const buttonEl =\n",
              "          document.querySelector('#df-578777d1-95d5-4be1-a5c5-51cd4f0fe875 button.colab-df-convert');\n",
              "        buttonEl.style.display =\n",
              "          google.colab.kernel.accessAllowed ? 'block' : 'none';\n",
              "\n",
              "        async function convertToInteractive(key) {\n",
              "          const element = document.querySelector('#df-578777d1-95d5-4be1-a5c5-51cd4f0fe875');\n",
              "          const dataTable =\n",
              "            await google.colab.kernel.invokeFunction('convertToInteractive',\n",
              "                                                     [key], {});\n",
              "          if (!dataTable) return;\n",
              "\n",
              "          const docLinkHtml = 'Like what you see? Visit the ' +\n",
              "            '<a target=\"_blank\" href=https://colab.research.google.com/notebooks/data_table.ipynb>data table notebook</a>'\n",
              "            + ' to learn more about interactive tables.';\n",
              "          element.innerHTML = '';\n",
              "          dataTable['output_type'] = 'display_data';\n",
              "          await google.colab.output.renderOutput(dataTable, element);\n",
              "          const docLink = document.createElement('div');\n",
              "          docLink.innerHTML = docLinkHtml;\n",
              "          element.appendChild(docLink);\n",
              "        }\n",
              "      </script>\n",
              "    </div>\n",
              "  </div>\n",
              "  "
            ]
          },
          "metadata": {},
          "execution_count": 31
        }
      ]
    },
    {
      "cell_type": "markdown",
      "source": [
        "As we already imported the geojson file of neighbourhood data, we will access it and calculate area (in square km) of each neighbourhood."
      ],
      "metadata": {
        "id": "bmWNZ2lrjLy3"
      }
    },
    {
      "cell_type": "code",
      "source": [
        "neighbourhoods"
      ],
      "metadata": {
        "colab": {
          "base_uri": "https://localhost:8080/",
          "height": 424
        },
        "id": "xFK4FLpAnU4g",
        "outputId": "5c5f6636-fa99-40fb-f776-bccf5086d366"
      },
      "execution_count": 32,
      "outputs": [
        {
          "output_type": "execute_result",
          "data": {
            "text/plain": [
              "      neighbourhood   neighbourhood_group  \\\n",
              "0     Angeles Crest  Unincorporated Areas   \n",
              "1             Acton  Unincorporated Areas   \n",
              "2        Agua Dulce  Unincorporated Areas   \n",
              "3            Athens  Unincorporated Areas   \n",
              "4      Alondra Park  Unincorporated Areas   \n",
              "..              ...                   ...   \n",
              "265  Windsor Square   City of Los Angeles   \n",
              "266      West Hills   City of Los Angeles   \n",
              "267        Whittier          Other Cities   \n",
              "268  Woodland Hills   City of Los Angeles   \n",
              "269      Wilmington   City of Los Angeles   \n",
              "\n",
              "                                              geometry  \n",
              "0    MULTIPOLYGON (((-118.09667 34.47348, -118.0796...  \n",
              "1    MULTIPOLYGON (((-118.20703 34.53902, -118.1894...  \n",
              "2    MULTIPOLYGON (((-118.37822 34.48811, -118.3783...  \n",
              "3    MULTIPOLYGON (((-118.29152 33.93096, -118.2916...  \n",
              "4    MULTIPOLYGON (((-118.32651 33.89757, -118.3264...  \n",
              "..                                                 ...  \n",
              "265  MULTIPOLYGON (((-118.31359 34.07623, -118.3135...  \n",
              "266  MULTIPOLYGON (((-118.60374 34.23323, -118.6029...  \n",
              "267  MULTIPOLYGON (((-118.06169 34.00487, -118.0613...  \n",
              "268  MULTIPOLYGON (((-118.57644 34.18836, -118.5748...  \n",
              "269  MULTIPOLYGON (((-118.22476 33.82461, -118.2245...  \n",
              "\n",
              "[270 rows x 3 columns]"
            ],
            "text/html": [
              "\n",
              "  <div id=\"df-a58eb501-cb9f-4e5f-8858-b350fc4a8dab\">\n",
              "    <div class=\"colab-df-container\">\n",
              "      <div>\n",
              "<style scoped>\n",
              "    .dataframe tbody tr th:only-of-type {\n",
              "        vertical-align: middle;\n",
              "    }\n",
              "\n",
              "    .dataframe tbody tr th {\n",
              "        vertical-align: top;\n",
              "    }\n",
              "\n",
              "    .dataframe thead th {\n",
              "        text-align: right;\n",
              "    }\n",
              "</style>\n",
              "<table border=\"1\" class=\"dataframe\">\n",
              "  <thead>\n",
              "    <tr style=\"text-align: right;\">\n",
              "      <th></th>\n",
              "      <th>neighbourhood</th>\n",
              "      <th>neighbourhood_group</th>\n",
              "      <th>geometry</th>\n",
              "    </tr>\n",
              "  </thead>\n",
              "  <tbody>\n",
              "    <tr>\n",
              "      <th>0</th>\n",
              "      <td>Angeles Crest</td>\n",
              "      <td>Unincorporated Areas</td>\n",
              "      <td>MULTIPOLYGON (((-118.09667 34.47348, -118.0796...</td>\n",
              "    </tr>\n",
              "    <tr>\n",
              "      <th>1</th>\n",
              "      <td>Acton</td>\n",
              "      <td>Unincorporated Areas</td>\n",
              "      <td>MULTIPOLYGON (((-118.20703 34.53902, -118.1894...</td>\n",
              "    </tr>\n",
              "    <tr>\n",
              "      <th>2</th>\n",
              "      <td>Agua Dulce</td>\n",
              "      <td>Unincorporated Areas</td>\n",
              "      <td>MULTIPOLYGON (((-118.37822 34.48811, -118.3783...</td>\n",
              "    </tr>\n",
              "    <tr>\n",
              "      <th>3</th>\n",
              "      <td>Athens</td>\n",
              "      <td>Unincorporated Areas</td>\n",
              "      <td>MULTIPOLYGON (((-118.29152 33.93096, -118.2916...</td>\n",
              "    </tr>\n",
              "    <tr>\n",
              "      <th>4</th>\n",
              "      <td>Alondra Park</td>\n",
              "      <td>Unincorporated Areas</td>\n",
              "      <td>MULTIPOLYGON (((-118.32651 33.89757, -118.3264...</td>\n",
              "    </tr>\n",
              "    <tr>\n",
              "      <th>...</th>\n",
              "      <td>...</td>\n",
              "      <td>...</td>\n",
              "      <td>...</td>\n",
              "    </tr>\n",
              "    <tr>\n",
              "      <th>265</th>\n",
              "      <td>Windsor Square</td>\n",
              "      <td>City of Los Angeles</td>\n",
              "      <td>MULTIPOLYGON (((-118.31359 34.07623, -118.3135...</td>\n",
              "    </tr>\n",
              "    <tr>\n",
              "      <th>266</th>\n",
              "      <td>West Hills</td>\n",
              "      <td>City of Los Angeles</td>\n",
              "      <td>MULTIPOLYGON (((-118.60374 34.23323, -118.6029...</td>\n",
              "    </tr>\n",
              "    <tr>\n",
              "      <th>267</th>\n",
              "      <td>Whittier</td>\n",
              "      <td>Other Cities</td>\n",
              "      <td>MULTIPOLYGON (((-118.06169 34.00487, -118.0613...</td>\n",
              "    </tr>\n",
              "    <tr>\n",
              "      <th>268</th>\n",
              "      <td>Woodland Hills</td>\n",
              "      <td>City of Los Angeles</td>\n",
              "      <td>MULTIPOLYGON (((-118.57644 34.18836, -118.5748...</td>\n",
              "    </tr>\n",
              "    <tr>\n",
              "      <th>269</th>\n",
              "      <td>Wilmington</td>\n",
              "      <td>City of Los Angeles</td>\n",
              "      <td>MULTIPOLYGON (((-118.22476 33.82461, -118.2245...</td>\n",
              "    </tr>\n",
              "  </tbody>\n",
              "</table>\n",
              "<p>270 rows × 3 columns</p>\n",
              "</div>\n",
              "      <button class=\"colab-df-convert\" onclick=\"convertToInteractive('df-a58eb501-cb9f-4e5f-8858-b350fc4a8dab')\"\n",
              "              title=\"Convert this dataframe to an interactive table.\"\n",
              "              style=\"display:none;\">\n",
              "        \n",
              "  <svg xmlns=\"http://www.w3.org/2000/svg\" height=\"24px\"viewBox=\"0 0 24 24\"\n",
              "       width=\"24px\">\n",
              "    <path d=\"M0 0h24v24H0V0z\" fill=\"none\"/>\n",
              "    <path d=\"M18.56 5.44l.94 2.06.94-2.06 2.06-.94-2.06-.94-.94-2.06-.94 2.06-2.06.94zm-11 1L8.5 8.5l.94-2.06 2.06-.94-2.06-.94L8.5 2.5l-.94 2.06-2.06.94zm10 10l.94 2.06.94-2.06 2.06-.94-2.06-.94-.94-2.06-.94 2.06-2.06.94z\"/><path d=\"M17.41 7.96l-1.37-1.37c-.4-.4-.92-.59-1.43-.59-.52 0-1.04.2-1.43.59L10.3 9.45l-7.72 7.72c-.78.78-.78 2.05 0 2.83L4 21.41c.39.39.9.59 1.41.59.51 0 1.02-.2 1.41-.59l7.78-7.78 2.81-2.81c.8-.78.8-2.07 0-2.86zM5.41 20L4 18.59l7.72-7.72 1.47 1.35L5.41 20z\"/>\n",
              "  </svg>\n",
              "      </button>\n",
              "      \n",
              "  <style>\n",
              "    .colab-df-container {\n",
              "      display:flex;\n",
              "      flex-wrap:wrap;\n",
              "      gap: 12px;\n",
              "    }\n",
              "\n",
              "    .colab-df-convert {\n",
              "      background-color: #E8F0FE;\n",
              "      border: none;\n",
              "      border-radius: 50%;\n",
              "      cursor: pointer;\n",
              "      display: none;\n",
              "      fill: #1967D2;\n",
              "      height: 32px;\n",
              "      padding: 0 0 0 0;\n",
              "      width: 32px;\n",
              "    }\n",
              "\n",
              "    .colab-df-convert:hover {\n",
              "      background-color: #E2EBFA;\n",
              "      box-shadow: 0px 1px 2px rgba(60, 64, 67, 0.3), 0px 1px 3px 1px rgba(60, 64, 67, 0.15);\n",
              "      fill: #174EA6;\n",
              "    }\n",
              "\n",
              "    [theme=dark] .colab-df-convert {\n",
              "      background-color: #3B4455;\n",
              "      fill: #D2E3FC;\n",
              "    }\n",
              "\n",
              "    [theme=dark] .colab-df-convert:hover {\n",
              "      background-color: #434B5C;\n",
              "      box-shadow: 0px 1px 3px 1px rgba(0, 0, 0, 0.15);\n",
              "      filter: drop-shadow(0px 1px 2px rgba(0, 0, 0, 0.3));\n",
              "      fill: #FFFFFF;\n",
              "    }\n",
              "  </style>\n",
              "\n",
              "      <script>\n",
              "        const buttonEl =\n",
              "          document.querySelector('#df-a58eb501-cb9f-4e5f-8858-b350fc4a8dab button.colab-df-convert');\n",
              "        buttonEl.style.display =\n",
              "          google.colab.kernel.accessAllowed ? 'block' : 'none';\n",
              "\n",
              "        async function convertToInteractive(key) {\n",
              "          const element = document.querySelector('#df-a58eb501-cb9f-4e5f-8858-b350fc4a8dab');\n",
              "          const dataTable =\n",
              "            await google.colab.kernel.invokeFunction('convertToInteractive',\n",
              "                                                     [key], {});\n",
              "          if (!dataTable) return;\n",
              "\n",
              "          const docLinkHtml = 'Like what you see? Visit the ' +\n",
              "            '<a target=\"_blank\" href=https://colab.research.google.com/notebooks/data_table.ipynb>data table notebook</a>'\n",
              "            + ' to learn more about interactive tables.';\n",
              "          element.innerHTML = '';\n",
              "          dataTable['output_type'] = 'display_data';\n",
              "          await google.colab.output.renderOutput(dataTable, element);\n",
              "          const docLink = document.createElement('div');\n",
              "          docLink.innerHTML = docLinkHtml;\n",
              "          element.appendChild(docLink);\n",
              "        }\n",
              "      </script>\n",
              "    </div>\n",
              "  </div>\n",
              "  "
            ]
          },
          "metadata": {},
          "execution_count": 32
        }
      ]
    },
    {
      "cell_type": "code",
      "source": [
        "neighbourhoods['sq_km'] = neighbourhoods['geometry'].to_crs({'proj':'cea'}).area / 10**6"
      ],
      "metadata": {
        "id": "-FQoRWuOnqzp"
      },
      "execution_count": 33,
      "outputs": []
    },
    {
      "cell_type": "code",
      "source": [
        "neighbourhoods_group = neighbourhoods.groupby('neighbourhood').sum(['sq_km']).reset_index()\n",
        "neighbourhoods_group = neighbourhoods_group.rename(columns={'neighbourhood':'neighbourhood_city'})\n",
        "neighbourhoods_group"
      ],
      "metadata": {
        "id": "mMofysM4n1h4",
        "colab": {
          "base_uri": "https://localhost:8080/",
          "height": 424
        },
        "outputId": "2287728b-5438-4269-c2ac-dda692f8beac"
      },
      "execution_count": 34,
      "outputs": [
        {
          "output_type": "execute_result",
          "data": {
            "text/plain": [
              "    neighbourhood_city       sq_km\n",
              "0                Acton  101.745423\n",
              "1      Adams-Normandie    2.077936\n",
              "2         Agoura Hills   20.480531\n",
              "3           Agua Dulce   78.459236\n",
              "4             Alhambra   19.767335\n",
              "..                 ...         ...\n",
              "265        Willowbrook    9.768715\n",
              "266         Wilmington   24.306708\n",
              "267     Windsor Square    1.768159\n",
              "268           Winnetka   12.434486\n",
              "269     Woodland Hills   38.317022\n",
              "\n",
              "[270 rows x 2 columns]"
            ],
            "text/html": [
              "\n",
              "  <div id=\"df-be8b072d-4bd3-4181-963b-7ce0cdc07cfc\">\n",
              "    <div class=\"colab-df-container\">\n",
              "      <div>\n",
              "<style scoped>\n",
              "    .dataframe tbody tr th:only-of-type {\n",
              "        vertical-align: middle;\n",
              "    }\n",
              "\n",
              "    .dataframe tbody tr th {\n",
              "        vertical-align: top;\n",
              "    }\n",
              "\n",
              "    .dataframe thead th {\n",
              "        text-align: right;\n",
              "    }\n",
              "</style>\n",
              "<table border=\"1\" class=\"dataframe\">\n",
              "  <thead>\n",
              "    <tr style=\"text-align: right;\">\n",
              "      <th></th>\n",
              "      <th>neighbourhood_city</th>\n",
              "      <th>sq_km</th>\n",
              "    </tr>\n",
              "  </thead>\n",
              "  <tbody>\n",
              "    <tr>\n",
              "      <th>0</th>\n",
              "      <td>Acton</td>\n",
              "      <td>101.745423</td>\n",
              "    </tr>\n",
              "    <tr>\n",
              "      <th>1</th>\n",
              "      <td>Adams-Normandie</td>\n",
              "      <td>2.077936</td>\n",
              "    </tr>\n",
              "    <tr>\n",
              "      <th>2</th>\n",
              "      <td>Agoura Hills</td>\n",
              "      <td>20.480531</td>\n",
              "    </tr>\n",
              "    <tr>\n",
              "      <th>3</th>\n",
              "      <td>Agua Dulce</td>\n",
              "      <td>78.459236</td>\n",
              "    </tr>\n",
              "    <tr>\n",
              "      <th>4</th>\n",
              "      <td>Alhambra</td>\n",
              "      <td>19.767335</td>\n",
              "    </tr>\n",
              "    <tr>\n",
              "      <th>...</th>\n",
              "      <td>...</td>\n",
              "      <td>...</td>\n",
              "    </tr>\n",
              "    <tr>\n",
              "      <th>265</th>\n",
              "      <td>Willowbrook</td>\n",
              "      <td>9.768715</td>\n",
              "    </tr>\n",
              "    <tr>\n",
              "      <th>266</th>\n",
              "      <td>Wilmington</td>\n",
              "      <td>24.306708</td>\n",
              "    </tr>\n",
              "    <tr>\n",
              "      <th>267</th>\n",
              "      <td>Windsor Square</td>\n",
              "      <td>1.768159</td>\n",
              "    </tr>\n",
              "    <tr>\n",
              "      <th>268</th>\n",
              "      <td>Winnetka</td>\n",
              "      <td>12.434486</td>\n",
              "    </tr>\n",
              "    <tr>\n",
              "      <th>269</th>\n",
              "      <td>Woodland Hills</td>\n",
              "      <td>38.317022</td>\n",
              "    </tr>\n",
              "  </tbody>\n",
              "</table>\n",
              "<p>270 rows × 2 columns</p>\n",
              "</div>\n",
              "      <button class=\"colab-df-convert\" onclick=\"convertToInteractive('df-be8b072d-4bd3-4181-963b-7ce0cdc07cfc')\"\n",
              "              title=\"Convert this dataframe to an interactive table.\"\n",
              "              style=\"display:none;\">\n",
              "        \n",
              "  <svg xmlns=\"http://www.w3.org/2000/svg\" height=\"24px\"viewBox=\"0 0 24 24\"\n",
              "       width=\"24px\">\n",
              "    <path d=\"M0 0h24v24H0V0z\" fill=\"none\"/>\n",
              "    <path d=\"M18.56 5.44l.94 2.06.94-2.06 2.06-.94-2.06-.94-.94-2.06-.94 2.06-2.06.94zm-11 1L8.5 8.5l.94-2.06 2.06-.94-2.06-.94L8.5 2.5l-.94 2.06-2.06.94zm10 10l.94 2.06.94-2.06 2.06-.94-2.06-.94-.94-2.06-.94 2.06-2.06.94z\"/><path d=\"M17.41 7.96l-1.37-1.37c-.4-.4-.92-.59-1.43-.59-.52 0-1.04.2-1.43.59L10.3 9.45l-7.72 7.72c-.78.78-.78 2.05 0 2.83L4 21.41c.39.39.9.59 1.41.59.51 0 1.02-.2 1.41-.59l7.78-7.78 2.81-2.81c.8-.78.8-2.07 0-2.86zM5.41 20L4 18.59l7.72-7.72 1.47 1.35L5.41 20z\"/>\n",
              "  </svg>\n",
              "      </button>\n",
              "      \n",
              "  <style>\n",
              "    .colab-df-container {\n",
              "      display:flex;\n",
              "      flex-wrap:wrap;\n",
              "      gap: 12px;\n",
              "    }\n",
              "\n",
              "    .colab-df-convert {\n",
              "      background-color: #E8F0FE;\n",
              "      border: none;\n",
              "      border-radius: 50%;\n",
              "      cursor: pointer;\n",
              "      display: none;\n",
              "      fill: #1967D2;\n",
              "      height: 32px;\n",
              "      padding: 0 0 0 0;\n",
              "      width: 32px;\n",
              "    }\n",
              "\n",
              "    .colab-df-convert:hover {\n",
              "      background-color: #E2EBFA;\n",
              "      box-shadow: 0px 1px 2px rgba(60, 64, 67, 0.3), 0px 1px 3px 1px rgba(60, 64, 67, 0.15);\n",
              "      fill: #174EA6;\n",
              "    }\n",
              "\n",
              "    [theme=dark] .colab-df-convert {\n",
              "      background-color: #3B4455;\n",
              "      fill: #D2E3FC;\n",
              "    }\n",
              "\n",
              "    [theme=dark] .colab-df-convert:hover {\n",
              "      background-color: #434B5C;\n",
              "      box-shadow: 0px 1px 3px 1px rgba(0, 0, 0, 0.15);\n",
              "      filter: drop-shadow(0px 1px 2px rgba(0, 0, 0, 0.3));\n",
              "      fill: #FFFFFF;\n",
              "    }\n",
              "  </style>\n",
              "\n",
              "      <script>\n",
              "        const buttonEl =\n",
              "          document.querySelector('#df-be8b072d-4bd3-4181-963b-7ce0cdc07cfc button.colab-df-convert');\n",
              "        buttonEl.style.display =\n",
              "          google.colab.kernel.accessAllowed ? 'block' : 'none';\n",
              "\n",
              "        async function convertToInteractive(key) {\n",
              "          const element = document.querySelector('#df-be8b072d-4bd3-4181-963b-7ce0cdc07cfc');\n",
              "          const dataTable =\n",
              "            await google.colab.kernel.invokeFunction('convertToInteractive',\n",
              "                                                     [key], {});\n",
              "          if (!dataTable) return;\n",
              "\n",
              "          const docLinkHtml = 'Like what you see? Visit the ' +\n",
              "            '<a target=\"_blank\" href=https://colab.research.google.com/notebooks/data_table.ipynb>data table notebook</a>'\n",
              "            + ' to learn more about interactive tables.';\n",
              "          element.innerHTML = '';\n",
              "          dataTable['output_type'] = 'display_data';\n",
              "          await google.colab.output.renderOutput(dataTable, element);\n",
              "          const docLink = document.createElement('div');\n",
              "          docLink.innerHTML = docLinkHtml;\n",
              "          element.appendChild(docLink);\n",
              "        }\n",
              "      </script>\n",
              "    </div>\n",
              "  </div>\n",
              "  "
            ]
          },
          "metadata": {},
          "execution_count": 34
        }
      ]
    },
    {
      "cell_type": "markdown",
      "source": [
        "We then merge the above 2 groupby datasets into one based on the name of neighbourhood. We now can calculate the density by dividing total of listings to the area of each neighbourhood. "
      ],
      "metadata": {
        "id": "HBNXug3XjwDt"
      }
    },
    {
      "cell_type": "code",
      "source": [
        "place_data = pd.merge(place_count, neighbourhoods_group, how='inner', on='neighbourhood_city')"
      ],
      "metadata": {
        "id": "5Uaa1lSCoTWP"
      },
      "execution_count": 35,
      "outputs": []
    },
    {
      "cell_type": "code",
      "source": [
        "place_data['listings_per_sq_km'] = place_data['total_listings'] / place_data['sq_km']"
      ],
      "metadata": {
        "id": "ROE4J9ERofLp"
      },
      "execution_count": 36,
      "outputs": []
    },
    {
      "cell_type": "code",
      "source": [
        "place_data['diff_from_std'] = (place_data['rs_value'] - 4.8)"
      ],
      "metadata": {
        "id": "cSr2zaYIjJbJ"
      },
      "execution_count": 37,
      "outputs": []
    },
    {
      "cell_type": "code",
      "source": [
        "place_data = place_data.sort_values('listings_per_sq_km', ascending=False)"
      ],
      "metadata": {
        "id": "Ysbo2lHklr8c"
      },
      "execution_count": 38,
      "outputs": []
    },
    {
      "cell_type": "code",
      "source": [
        "place_data['rounded'] = place_data['listings_per_sq_km'].round(0)"
      ],
      "metadata": {
        "id": "7Zr17IMBYOJA"
      },
      "execution_count": 39,
      "outputs": []
    },
    {
      "cell_type": "code",
      "source": [
        "place_data"
      ],
      "metadata": {
        "colab": {
          "base_uri": "https://localhost:8080/",
          "height": 424
        },
        "id": "QxKRuwvaYinv",
        "outputId": "d480329b-474e-4cec-d130-312cd105e69d"
      },
      "execution_count": 40,
      "outputs": [
        {
          "output_type": "execute_result",
          "data": {
            "text/plain": [
              "            neighbourhood_city  total_listings  rs_value        sq_km  \\\n",
              "137             Marina del Rey             232     4.570     2.337741   \n",
              "245             West Hollywood             425     4.730     4.888131   \n",
              "230                     Venice             351     4.790     7.899005   \n",
              "96               Hermosa Beach              89     4.730     3.772805   \n",
              "14                      Avalon             167     4.530     7.694068   \n",
              "..                         ...             ...       ...          ...   \n",
              "206  Southeast Antelope Valley              11     4.830   507.218784   \n",
              "178                Ridge Route              11     4.900   765.028580   \n",
              "152  Northeast Antelope Valley              10     4.790  1148.048582   \n",
              "219            Tujunga Canyons               5     4.700   599.646488   \n",
              "154  Northwest Antelope Valley               4     4.945   551.167852   \n",
              "\n",
              "     listings_per_sq_km  diff_from_std  rounded  \n",
              "137           99.241094         -0.230     99.0  \n",
              "245           86.945293         -0.070     87.0  \n",
              "230           44.435978         -0.010     44.0  \n",
              "96            23.589874         -0.070     24.0  \n",
              "14            21.705034         -0.270     22.0  \n",
              "..                  ...            ...      ...  \n",
              "206            0.021687          0.030      0.0  \n",
              "178            0.014379          0.100      0.0  \n",
              "152            0.008710         -0.010      0.0  \n",
              "219            0.008338         -0.100      0.0  \n",
              "154            0.007257          0.145      0.0  \n",
              "\n",
              "[260 rows x 7 columns]"
            ],
            "text/html": [
              "\n",
              "  <div id=\"df-b47362a8-851d-45b6-9b08-e103cec843e7\">\n",
              "    <div class=\"colab-df-container\">\n",
              "      <div>\n",
              "<style scoped>\n",
              "    .dataframe tbody tr th:only-of-type {\n",
              "        vertical-align: middle;\n",
              "    }\n",
              "\n",
              "    .dataframe tbody tr th {\n",
              "        vertical-align: top;\n",
              "    }\n",
              "\n",
              "    .dataframe thead th {\n",
              "        text-align: right;\n",
              "    }\n",
              "</style>\n",
              "<table border=\"1\" class=\"dataframe\">\n",
              "  <thead>\n",
              "    <tr style=\"text-align: right;\">\n",
              "      <th></th>\n",
              "      <th>neighbourhood_city</th>\n",
              "      <th>total_listings</th>\n",
              "      <th>rs_value</th>\n",
              "      <th>sq_km</th>\n",
              "      <th>listings_per_sq_km</th>\n",
              "      <th>diff_from_std</th>\n",
              "      <th>rounded</th>\n",
              "    </tr>\n",
              "  </thead>\n",
              "  <tbody>\n",
              "    <tr>\n",
              "      <th>137</th>\n",
              "      <td>Marina del Rey</td>\n",
              "      <td>232</td>\n",
              "      <td>4.570</td>\n",
              "      <td>2.337741</td>\n",
              "      <td>99.241094</td>\n",
              "      <td>-0.230</td>\n",
              "      <td>99.0</td>\n",
              "    </tr>\n",
              "    <tr>\n",
              "      <th>245</th>\n",
              "      <td>West Hollywood</td>\n",
              "      <td>425</td>\n",
              "      <td>4.730</td>\n",
              "      <td>4.888131</td>\n",
              "      <td>86.945293</td>\n",
              "      <td>-0.070</td>\n",
              "      <td>87.0</td>\n",
              "    </tr>\n",
              "    <tr>\n",
              "      <th>230</th>\n",
              "      <td>Venice</td>\n",
              "      <td>351</td>\n",
              "      <td>4.790</td>\n",
              "      <td>7.899005</td>\n",
              "      <td>44.435978</td>\n",
              "      <td>-0.010</td>\n",
              "      <td>44.0</td>\n",
              "    </tr>\n",
              "    <tr>\n",
              "      <th>96</th>\n",
              "      <td>Hermosa Beach</td>\n",
              "      <td>89</td>\n",
              "      <td>4.730</td>\n",
              "      <td>3.772805</td>\n",
              "      <td>23.589874</td>\n",
              "      <td>-0.070</td>\n",
              "      <td>24.0</td>\n",
              "    </tr>\n",
              "    <tr>\n",
              "      <th>14</th>\n",
              "      <td>Avalon</td>\n",
              "      <td>167</td>\n",
              "      <td>4.530</td>\n",
              "      <td>7.694068</td>\n",
              "      <td>21.705034</td>\n",
              "      <td>-0.270</td>\n",
              "      <td>22.0</td>\n",
              "    </tr>\n",
              "    <tr>\n",
              "      <th>...</th>\n",
              "      <td>...</td>\n",
              "      <td>...</td>\n",
              "      <td>...</td>\n",
              "      <td>...</td>\n",
              "      <td>...</td>\n",
              "      <td>...</td>\n",
              "      <td>...</td>\n",
              "    </tr>\n",
              "    <tr>\n",
              "      <th>206</th>\n",
              "      <td>Southeast Antelope Valley</td>\n",
              "      <td>11</td>\n",
              "      <td>4.830</td>\n",
              "      <td>507.218784</td>\n",
              "      <td>0.021687</td>\n",
              "      <td>0.030</td>\n",
              "      <td>0.0</td>\n",
              "    </tr>\n",
              "    <tr>\n",
              "      <th>178</th>\n",
              "      <td>Ridge Route</td>\n",
              "      <td>11</td>\n",
              "      <td>4.900</td>\n",
              "      <td>765.028580</td>\n",
              "      <td>0.014379</td>\n",
              "      <td>0.100</td>\n",
              "      <td>0.0</td>\n",
              "    </tr>\n",
              "    <tr>\n",
              "      <th>152</th>\n",
              "      <td>Northeast Antelope Valley</td>\n",
              "      <td>10</td>\n",
              "      <td>4.790</td>\n",
              "      <td>1148.048582</td>\n",
              "      <td>0.008710</td>\n",
              "      <td>-0.010</td>\n",
              "      <td>0.0</td>\n",
              "    </tr>\n",
              "    <tr>\n",
              "      <th>219</th>\n",
              "      <td>Tujunga Canyons</td>\n",
              "      <td>5</td>\n",
              "      <td>4.700</td>\n",
              "      <td>599.646488</td>\n",
              "      <td>0.008338</td>\n",
              "      <td>-0.100</td>\n",
              "      <td>0.0</td>\n",
              "    </tr>\n",
              "    <tr>\n",
              "      <th>154</th>\n",
              "      <td>Northwest Antelope Valley</td>\n",
              "      <td>4</td>\n",
              "      <td>4.945</td>\n",
              "      <td>551.167852</td>\n",
              "      <td>0.007257</td>\n",
              "      <td>0.145</td>\n",
              "      <td>0.0</td>\n",
              "    </tr>\n",
              "  </tbody>\n",
              "</table>\n",
              "<p>260 rows × 7 columns</p>\n",
              "</div>\n",
              "      <button class=\"colab-df-convert\" onclick=\"convertToInteractive('df-b47362a8-851d-45b6-9b08-e103cec843e7')\"\n",
              "              title=\"Convert this dataframe to an interactive table.\"\n",
              "              style=\"display:none;\">\n",
              "        \n",
              "  <svg xmlns=\"http://www.w3.org/2000/svg\" height=\"24px\"viewBox=\"0 0 24 24\"\n",
              "       width=\"24px\">\n",
              "    <path d=\"M0 0h24v24H0V0z\" fill=\"none\"/>\n",
              "    <path d=\"M18.56 5.44l.94 2.06.94-2.06 2.06-.94-2.06-.94-.94-2.06-.94 2.06-2.06.94zm-11 1L8.5 8.5l.94-2.06 2.06-.94-2.06-.94L8.5 2.5l-.94 2.06-2.06.94zm10 10l.94 2.06.94-2.06 2.06-.94-2.06-.94-.94-2.06-.94 2.06-2.06.94z\"/><path d=\"M17.41 7.96l-1.37-1.37c-.4-.4-.92-.59-1.43-.59-.52 0-1.04.2-1.43.59L10.3 9.45l-7.72 7.72c-.78.78-.78 2.05 0 2.83L4 21.41c.39.39.9.59 1.41.59.51 0 1.02-.2 1.41-.59l7.78-7.78 2.81-2.81c.8-.78.8-2.07 0-2.86zM5.41 20L4 18.59l7.72-7.72 1.47 1.35L5.41 20z\"/>\n",
              "  </svg>\n",
              "      </button>\n",
              "      \n",
              "  <style>\n",
              "    .colab-df-container {\n",
              "      display:flex;\n",
              "      flex-wrap:wrap;\n",
              "      gap: 12px;\n",
              "    }\n",
              "\n",
              "    .colab-df-convert {\n",
              "      background-color: #E8F0FE;\n",
              "      border: none;\n",
              "      border-radius: 50%;\n",
              "      cursor: pointer;\n",
              "      display: none;\n",
              "      fill: #1967D2;\n",
              "      height: 32px;\n",
              "      padding: 0 0 0 0;\n",
              "      width: 32px;\n",
              "    }\n",
              "\n",
              "    .colab-df-convert:hover {\n",
              "      background-color: #E2EBFA;\n",
              "      box-shadow: 0px 1px 2px rgba(60, 64, 67, 0.3), 0px 1px 3px 1px rgba(60, 64, 67, 0.15);\n",
              "      fill: #174EA6;\n",
              "    }\n",
              "\n",
              "    [theme=dark] .colab-df-convert {\n",
              "      background-color: #3B4455;\n",
              "      fill: #D2E3FC;\n",
              "    }\n",
              "\n",
              "    [theme=dark] .colab-df-convert:hover {\n",
              "      background-color: #434B5C;\n",
              "      box-shadow: 0px 1px 3px 1px rgba(0, 0, 0, 0.15);\n",
              "      filter: drop-shadow(0px 1px 2px rgba(0, 0, 0, 0.3));\n",
              "      fill: #FFFFFF;\n",
              "    }\n",
              "  </style>\n",
              "\n",
              "      <script>\n",
              "        const buttonEl =\n",
              "          document.querySelector('#df-b47362a8-851d-45b6-9b08-e103cec843e7 button.colab-df-convert');\n",
              "        buttonEl.style.display =\n",
              "          google.colab.kernel.accessAllowed ? 'block' : 'none';\n",
              "\n",
              "        async function convertToInteractive(key) {\n",
              "          const element = document.querySelector('#df-b47362a8-851d-45b6-9b08-e103cec843e7');\n",
              "          const dataTable =\n",
              "            await google.colab.kernel.invokeFunction('convertToInteractive',\n",
              "                                                     [key], {});\n",
              "          if (!dataTable) return;\n",
              "\n",
              "          const docLinkHtml = 'Like what you see? Visit the ' +\n",
              "            '<a target=\"_blank\" href=https://colab.research.google.com/notebooks/data_table.ipynb>data table notebook</a>'\n",
              "            + ' to learn more about interactive tables.';\n",
              "          element.innerHTML = '';\n",
              "          dataTable['output_type'] = 'display_data';\n",
              "          await google.colab.output.renderOutput(dataTable, element);\n",
              "          const docLink = document.createElement('div');\n",
              "          docLink.innerHTML = docLinkHtml;\n",
              "          element.appendChild(docLink);\n",
              "        }\n",
              "      </script>\n",
              "    </div>\n",
              "  </div>\n",
              "  "
            ]
          },
          "metadata": {},
          "execution_count": 40
        }
      ]
    },
    {
      "cell_type": "markdown",
      "source": [
        "In order to plot the data on graph easily, we will group data into each density number (already rounded) and do aggregation on rating score."
      ],
      "metadata": {
        "id": "bHI6tnqkkAOm"
      }
    },
    {
      "cell_type": "code",
      "source": [
        "rounded_density = place_data[place_data['rounded']>0].groupby('rounded').agg({'rs_value':'median'}).reset_index()"
      ],
      "metadata": {
        "id": "N0f7tXkjYkdc"
      },
      "execution_count": 41,
      "outputs": []
    },
    {
      "cell_type": "code",
      "source": [
        "plt.figure(figsize=(10,7))\n",
        "sns.regplot(data=rounded_density, x='rounded', y='rs_value', color='tomato')\n",
        "plt.title('Correlation between Density and Value rating score')\n",
        "plt.ylabel('Value rating score (points)')\n",
        "plt.xlabel('Density in rounded number of each neighbourhood (sq km)')\n",
        "plt.show()"
      ],
      "metadata": {
        "colab": {
          "base_uri": "https://localhost:8080/",
          "height": 464
        },
        "id": "0vOhbTgBYxXl",
        "outputId": "d081ea93-a6ef-4d49-d01d-dc0abee7d2ed"
      },
      "execution_count": 42,
      "outputs": [
        {
          "output_type": "display_data",
          "data": {
            "text/plain": [
              "<Figure size 720x504 with 1 Axes>"
            ],
            "image/png": "[encoded data removed]"
          },
          "metadata": {}
        }
      ]
    },
    {
      "cell_type": "markdown",
      "source": [
        "There is a negative correlation between rating score and density. Locations with densely distributed have a lower rating score and locations with sparse density have relatively high score of value rating. "
      ],
      "metadata": {
        "id": "UtlogVnNk-hB"
      }
    },
    {
      "cell_type": "markdown",
      "source": [
        "In order to get a better view on how much of rating score that listings in each level of density are getting from guests, we can make a reference to a standard score of 4.8 (which is the requirement to overall rating score to [become a superhost](https://www.airbnb.com/help/article/829/how-to-become-a-superhost), but this number can be also used in this scale of analysis for better understanding on the performance of listings) and compare with average median score in each group."
      ],
      "metadata": {
        "id": "hehbtQCF13vw"
      }
    },
    {
      "cell_type": "code",
      "source": [
        "rounded_density['diff_fr_std'] = ((rounded_density['rs_value'] - 4.8)/ 4.8) * 100"
      ],
      "metadata": {
        "id": "z9SnrUuvgweC"
      },
      "execution_count": 43,
      "outputs": []
    },
    {
      "cell_type": "code",
      "source": [
        "rounded_density['diff_fr_std'] = rounded_density['diff_fr_std'].round(1)"
      ],
      "metadata": {
        "id": "5hVvHf-keJQ5"
      },
      "execution_count": 44,
      "outputs": []
    },
    {
      "cell_type": "code",
      "source": [
        "rounded_density['group'] = pd.cut(rounded_density['rounded'], \n",
        "                                  bins=[0.0,5,10,15,20,rounded_density['rounded'].max()], \n",
        "                                  labels=['1-5', '6-10', '11-15', '16-20', '+20'])"
      ],
      "metadata": {
        "id": "Mxy8pfGOiWxl"
      },
      "execution_count": 45,
      "outputs": []
    },
    {
      "cell_type": "code",
      "source": [
        "grouped_density = rounded_density.groupby('group')['diff_fr_std'].mean().reset_index()\n",
        "grouped_density"
      ],
      "metadata": {
        "colab": {
          "base_uri": "https://localhost:8080/",
          "height": 206
        },
        "id": "CqOjENrjfR8W",
        "outputId": "8851157e-f747-4894-ccc1-72bc6c45fe6b"
      },
      "execution_count": 46,
      "outputs": [
        {
          "output_type": "execute_result",
          "data": {
            "text/plain": [
              "   group  diff_fr_std\n",
              "0    1-5         0.70\n",
              "1   6-10         0.06\n",
              "2  11-15         0.06\n",
              "3  16-20        -0.22\n",
              "4    +20        -2.72"
            ],
            "text/html": [
              "\n",
              "  <div id=\"df-f004f688-9f30-4be0-b3e6-4e9e27d4e7d2\">\n",
              "    <div class=\"colab-df-container\">\n",
              "      <div>\n",
              "<style scoped>\n",
              "    .dataframe tbody tr th:only-of-type {\n",
              "        vertical-align: middle;\n",
              "    }\n",
              "\n",
              "    .dataframe tbody tr th {\n",
              "        vertical-align: top;\n",
              "    }\n",
              "\n",
              "    .dataframe thead th {\n",
              "        text-align: right;\n",
              "    }\n",
              "</style>\n",
              "<table border=\"1\" class=\"dataframe\">\n",
              "  <thead>\n",
              "    <tr style=\"text-align: right;\">\n",
              "      <th></th>\n",
              "      <th>group</th>\n",
              "      <th>diff_fr_std</th>\n",
              "    </tr>\n",
              "  </thead>\n",
              "  <tbody>\n",
              "    <tr>\n",
              "      <th>0</th>\n",
              "      <td>1-5</td>\n",
              "      <td>0.70</td>\n",
              "    </tr>\n",
              "    <tr>\n",
              "      <th>1</th>\n",
              "      <td>6-10</td>\n",
              "      <td>0.06</td>\n",
              "    </tr>\n",
              "    <tr>\n",
              "      <th>2</th>\n",
              "      <td>11-15</td>\n",
              "      <td>0.06</td>\n",
              "    </tr>\n",
              "    <tr>\n",
              "      <th>3</th>\n",
              "      <td>16-20</td>\n",
              "      <td>-0.22</td>\n",
              "    </tr>\n",
              "    <tr>\n",
              "      <th>4</th>\n",
              "      <td>+20</td>\n",
              "      <td>-2.72</td>\n",
              "    </tr>\n",
              "  </tbody>\n",
              "</table>\n",
              "</div>\n",
              "      <button class=\"colab-df-convert\" onclick=\"convertToInteractive('df-f004f688-9f30-4be0-b3e6-4e9e27d4e7d2')\"\n",
              "              title=\"Convert this dataframe to an interactive table.\"\n",
              "              style=\"display:none;\">\n",
              "        \n",
              "  <svg xmlns=\"http://www.w3.org/2000/svg\" height=\"24px\"viewBox=\"0 0 24 24\"\n",
              "       width=\"24px\">\n",
              "    <path d=\"M0 0h24v24H0V0z\" fill=\"none\"/>\n",
              "    <path d=\"M18.56 5.44l.94 2.06.94-2.06 2.06-.94-2.06-.94-.94-2.06-.94 2.06-2.06.94zm-11 1L8.5 8.5l.94-2.06 2.06-.94-2.06-.94L8.5 2.5l-.94 2.06-2.06.94zm10 10l.94 2.06.94-2.06 2.06-.94-2.06-.94-.94-2.06-.94 2.06-2.06.94z\"/><path d=\"M17.41 7.96l-1.37-1.37c-.4-.4-.92-.59-1.43-.59-.52 0-1.04.2-1.43.59L10.3 9.45l-7.72 7.72c-.78.78-.78 2.05 0 2.83L4 21.41c.39.39.9.59 1.41.59.51 0 1.02-.2 1.41-.59l7.78-7.78 2.81-2.81c.8-.78.8-2.07 0-2.86zM5.41 20L4 18.59l7.72-7.72 1.47 1.35L5.41 20z\"/>\n",
              "  </svg>\n",
              "      </button>\n",
              "      \n",
              "  <style>\n",
              "    .colab-df-container {\n",
              "      display:flex;\n",
              "      flex-wrap:wrap;\n",
              "      gap: 12px;\n",
              "    }\n",
              "\n",
              "    .colab-df-convert {\n",
              "      background-color: #E8F0FE;\n",
              "      border: none;\n",
              "      border-radius: 50%;\n",
              "      cursor: pointer;\n",
              "      display: none;\n",
              "      fill: #1967D2;\n",
              "      height: 32px;\n",
              "      padding: 0 0 0 0;\n",
              "      width: 32px;\n",
              "    }\n",
              "\n",
              "    .colab-df-convert:hover {\n",
              "      background-color: #E2EBFA;\n",
              "      box-shadow: 0px 1px 2px rgba(60, 64, 67, 0.3), 0px 1px 3px 1px rgba(60, 64, 67, 0.15);\n",
              "      fill: #174EA6;\n",
              "    }\n",
              "\n",
              "    [theme=dark] .colab-df-convert {\n",
              "      background-color: #3B4455;\n",
              "      fill: #D2E3FC;\n",
              "    }\n",
              "\n",
              "    [theme=dark] .colab-df-convert:hover {\n",
              "      background-color: #434B5C;\n",
              "      box-shadow: 0px 1px 3px 1px rgba(0, 0, 0, 0.15);\n",
              "      filter: drop-shadow(0px 1px 2px rgba(0, 0, 0, 0.3));\n",
              "      fill: #FFFFFF;\n",
              "    }\n",
              "  </style>\n",
              "\n",
              "      <script>\n",
              "        const buttonEl =\n",
              "          document.querySelector('#df-f004f688-9f30-4be0-b3e6-4e9e27d4e7d2 button.colab-df-convert');\n",
              "        buttonEl.style.display =\n",
              "          google.colab.kernel.accessAllowed ? 'block' : 'none';\n",
              "\n",
              "        async function convertToInteractive(key) {\n",
              "          const element = document.querySelector('#df-f004f688-9f30-4be0-b3e6-4e9e27d4e7d2');\n",
              "          const dataTable =\n",
              "            await google.colab.kernel.invokeFunction('convertToInteractive',\n",
              "                                                     [key], {});\n",
              "          if (!dataTable) return;\n",
              "\n",
              "          const docLinkHtml = 'Like what you see? Visit the ' +\n",
              "            '<a target=\"_blank\" href=https://colab.research.google.com/notebooks/data_table.ipynb>data table notebook</a>'\n",
              "            + ' to learn more about interactive tables.';\n",
              "          element.innerHTML = '';\n",
              "          dataTable['output_type'] = 'display_data';\n",
              "          await google.colab.output.renderOutput(dataTable, element);\n",
              "          const docLink = document.createElement('div');\n",
              "          docLink.innerHTML = docLinkHtml;\n",
              "          element.appendChild(docLink);\n",
              "        }\n",
              "      </script>\n",
              "    </div>\n",
              "  </div>\n",
              "  "
            ]
          },
          "metadata": {},
          "execution_count": 46
        }
      ]
    },
    {
      "cell_type": "markdown",
      "source": [
        "Based on the above result table, we then plot it to the graph so as to show how difference of value rating score from standard in each of group of density."
      ],
      "metadata": {
        "id": "t7RvBmYD5mcj"
      }
    },
    {
      "cell_type": "code",
      "source": [
        "plt.figure(figsize=(5,7))\n",
        "sns.barplot(data=grouped_density, x='group', y='diff_fr_std')\n",
        "plt.xlabel('Groups of listings in a square km')\n",
        "plt.ylabel('Difference from standard score (points)')\n",
        "plt.show()"
      ],
      "metadata": {
        "colab": {
          "base_uri": "https://localhost:8080/",
          "height": 448
        },
        "id": "AUETMAxMfR5R",
        "outputId": "add0aec2-1286-4a0e-e001-4b912f24c9b7"
      },
      "execution_count": 47,
      "outputs": [
        {
          "output_type": "display_data",
          "data": {
            "text/plain": [
              "<Figure size 360x504 with 1 Axes>"
            ],
            "image/png": "[encoded data removed]"
          },
          "metadata": {}
        }
      ]
    },
    {
      "cell_type": "markdown",
      "source": [
        "We can see that in places where listings are not much densly distributed (15 listings or below in one square km) tend to perform well in value rating score as the scores are all higher from 0.1% to 0.7% comparing to a standard 4.8 score. <br>\n",
        "And when there is a high competitive rate in one square km (over 15 listings), value rating scores of these listings here are not highly evaluated as they are much lower than the standard score from 0.22% (group of 16-20 listings) to 2.72% (group of over 20 listings in one sq km) "
      ],
      "metadata": {
        "id": "ROlXAugW58Cc"
      }
    },
    {
      "cell_type": "markdown",
      "source": [
        "As being summed up from an article published on HBR about the outcome when there is a lot of choices:  <br><br>\n",
        "***What’s more, psychologists and business academics alike have largely ignored another outcome of choice: More of it requires increased time and effort and can lead to anxiety, regret, excessively high expectations, and self-blame if the choices don’t work out.*** <br>\n",
        "Barry Schwartz (June 2006). *More isn't always better*. Harvard Business Review. https://hbr.org/2006/06/more-isnt-always-better"
      ],
      "metadata": {
        "id": "d6demF75PeGU"
      }
    },
    {
      "cell_type": "markdown",
      "source": [
        "As number of listings grow, hosts now can manage multiple properties by their owns or cooperate their counterparts. In the next analysis, we will see when one host has many listings to manage, will the value rating score go up or down? "
      ],
      "metadata": {
        "id": "JnUunBv99otU"
      }
    },
    {
      "cell_type": "markdown",
      "source": [
        "### Number of properties managed"
      ],
      "metadata": {
        "id": "yLPbx86umJV4"
      }
    },
    {
      "cell_type": "code",
      "source": [
        "df['host_listings_count'].describe()"
      ],
      "metadata": {
        "colab": {
          "base_uri": "https://localhost:8080/"
        },
        "id": "mrmpGRA2jK7P",
        "outputId": "68b3050b-1421-487a-d923-f2db81a8896a"
      },
      "execution_count": 48,
      "outputs": [
        {
          "output_type": "execute_result",
          "data": {
            "text/plain": [
              "count    17195.000000\n",
              "mean        18.249549\n",
              "std        110.920159\n",
              "min          0.000000\n",
              "25%          1.000000\n",
              "50%          2.000000\n",
              "75%          8.000000\n",
              "max       2633.000000\n",
              "Name: host_listings_count, dtype: float64"
            ]
          },
          "metadata": {},
          "execution_count": 48
        }
      ]
    },
    {
      "cell_type": "markdown",
      "source": [
        "As the variable `host_listings_count` varies from 0 up to 2633, we will get rid of outliers for better analysis."
      ],
      "metadata": {
        "id": "j6Nf70szBw-p"
      }
    },
    {
      "cell_type": "code",
      "source": [
        "q1 = df['host_listings_count'].quantile(0.25)\n",
        "q3 = df['host_listings_count'].quantile(0.75)\n",
        "\n",
        "iqr = q3 - q1\n",
        "\n",
        "lower = q1 - 1.5*iqr\n",
        "upper = q3 + 1.5*iqr"
      ],
      "metadata": {
        "id": "85s7A50inNt4"
      },
      "execution_count": 49,
      "outputs": []
    },
    {
      "cell_type": "code",
      "source": [
        "df_manage = df[(df['host_listings_count'] > 0) & (df['host_listings_count'] < upper)]"
      ],
      "metadata": {
        "id": "9DBViV4EnNrA"
      },
      "execution_count": 50,
      "outputs": []
    },
    {
      "cell_type": "code",
      "source": [
        "df_manage['host_listings_count'].describe()"
      ],
      "metadata": {
        "colab": {
          "base_uri": "https://localhost:8080/"
        },
        "id": "Z1SZ158AnNoJ",
        "outputId": "c4899010-ca0a-46a5-fbe0-cbb85b0feab2"
      },
      "execution_count": 51,
      "outputs": [
        {
          "output_type": "execute_result",
          "data": {
            "text/plain": [
              "count    11743.000000\n",
              "mean         4.155838\n",
              "std          4.108568\n",
              "min          1.000000\n",
              "25%          1.000000\n",
              "50%          2.000000\n",
              "75%          5.000000\n",
              "max         18.000000\n",
              "Name: host_listings_count, dtype: float64"
            ]
          },
          "metadata": {},
          "execution_count": 51
        }
      ]
    },
    {
      "cell_type": "markdown",
      "source": [
        "Same with above technique used, we also group data into each number of listings one host manage with aggregation of value rating score. "
      ],
      "metadata": {
        "id": "ALIOd4UwCCkH"
      }
    },
    {
      "cell_type": "code",
      "source": [
        "plot_manage = df_manage.groupby('host_listings_count').agg({'rs_value':'median'}).reset_index()"
      ],
      "metadata": {
        "id": "uq4BEJeDnNlB"
      },
      "execution_count": 52,
      "outputs": []
    },
    {
      "cell_type": "code",
      "source": [
        "plt.figure(figsize=(10,7))\n",
        "sns.regplot(data=plot_manage, x='host_listings_count', y='rs_value', color='tomato')\n",
        "plt.title('Correlation between Number of properties managed and Value rating score')\n",
        "plt.xlabel('Number of properties managed')\n",
        "plt.ylabel('Value rating score (points)')"
      ],
      "metadata": {
        "colab": {
          "base_uri": "https://localhost:8080/",
          "height": 482
        },
        "id": "8KSEPSjenmOM",
        "outputId": "e9fe7a70-7924-43f2-e502-247b5f2f82dd"
      },
      "execution_count": 53,
      "outputs": [
        {
          "output_type": "execute_result",
          "data": {
            "text/plain": [
              "Text(0, 0.5, 'Value rating score (points)')"
            ]
          },
          "metadata": {},
          "execution_count": 53
        },
        {
          "output_type": "display_data",
          "data": {
            "text/plain": [
              "<Figure size 720x504 with 1 Axes>"
            ],
            "image/png": "[encoded data removed]"
          },
          "metadata": {}
        }
      ]
    },
    {
      "cell_type": "markdown",
      "source": [
        "There is a negative correlation here. When a host has too many properties to manage, they tend to get lower value rating score than hosts manage only a few listings. "
      ],
      "metadata": {
        "id": "JpZP0TXYC-hf"
      }
    },
    {
      "cell_type": "markdown",
      "source": [
        "We also compare that rating score in each level of properties managed to the standard score. "
      ],
      "metadata": {
        "id": "D1_qWI64DzXM"
      }
    },
    {
      "cell_type": "code",
      "source": [
        "plot_manage['diff_fr_std'] = ((plot_manage['rs_value'] - 4.8) / 4.8) * 100"
      ],
      "metadata": {
        "id": "tVLbdtJnnNiL"
      },
      "execution_count": 54,
      "outputs": []
    },
    {
      "cell_type": "code",
      "source": [
        "plot_manage['host_listings_count'] = plot_manage['host_listings_count'].astype('int')"
      ],
      "metadata": {
        "id": "qvg0ET70Ee_N"
      },
      "execution_count": 55,
      "outputs": []
    },
    {
      "cell_type": "code",
      "source": [
        "plt.figure(figsize=(10,7))\n",
        "sns.barplot(data=plot_manage, x='host_listings_count', y='diff_fr_std')\n",
        "plt.xlabel('Number of properties managed')\n",
        "plt.ylabel('Difference from standard score (points)')\n",
        "plt.show()"
      ],
      "metadata": {
        "colab": {
          "base_uri": "https://localhost:8080/",
          "height": 448
        },
        "id": "edn4S_0SsZx2",
        "outputId": "dabc65d1-8107-403b-ac92-2bf2686015cf"
      },
      "execution_count": 56,
      "outputs": [
        {
          "output_type": "display_data",
          "data": {
            "text/plain": [
              "<Figure size 720x504 with 1 Axes>"
            ],
            "image/png": "[encoded data removed]"
          },
          "metadata": {}
        }
      ]
    },
    {
      "cell_type": "markdown",
      "source": [
        "Based on the above graph, hosts that manage 4 listings or below are doing great as their scores are equal or even 1% higher to the standard score. <br>\n",
        "Meanwhile, when the number of properties one host manages is from 4 and up to 18, the rating scores are much lower than standard score from 0.6% till 3.9%. "
      ],
      "metadata": {
        "id": "vKu5W68lEUtZ"
      }
    },
    {
      "cell_type": "markdown",
      "source": [
        "For further analysis, we will take a deep dive into the variable `host_listings_count` to see whether there is any patterns with other variables. <br>\n",
        "First, we are curious that whether experienced hosts manage multiple properties better than regular hosts? <br>\n",
        "One factor that helps explain it is to make a reference to `superhost` badge status. "
      ],
      "metadata": {
        "id": "7NEokbrvVsed"
      }
    },
    {
      "cell_type": "code",
      "source": [
        "data_superhost = pd.pivot_table(data=df_manage, \n",
        "               index='host_listings_count', \n",
        "               columns='superhost', \n",
        "               values='rs_value',\n",
        "               aggfunc='median')\n",
        "data_superhost = data_superhost.reset_index()"
      ],
      "metadata": {
        "id": "PQ-pu7O-9ujm"
      },
      "execution_count": 57,
      "outputs": []
    },
    {
      "cell_type": "code",
      "source": [
        "plot_superhost = data_superhost.melt(id_vars=['host_listings_count'], \n",
        "           value_vars=['f', 't'], \n",
        "           var_name='superhost', \n",
        "           value_name='rs_value')"
      ],
      "metadata": {
        "id": "UKt754rN8nUY"
      },
      "execution_count": 58,
      "outputs": []
    },
    {
      "cell_type": "code",
      "source": [
        "g = sns.lmplot(data=plot_superhost, x='host_listings_count', y='rs_value', hue='superhost', markers=['o', 'x'], \n",
        "           height=6, aspect=1.5, palette=dict(f='grey', t='blueviolet'))\n",
        "plt.title('Correlation between Superhost status and Value rating score')\n",
        "plt.xlabel('Number of properties managed')\n",
        "plt.ylabel('Value rating score (points)')\n",
        "g._legend.set_title('Superhost')\n",
        "plt.show()"
      ],
      "metadata": {
        "colab": {
          "base_uri": "https://localhost:8080/",
          "height": 453
        },
        "id": "-UxlZcvT8nRg",
        "outputId": "4ea66010-4b2f-40b5-e08a-a18604a84d7c"
      },
      "execution_count": 59,
      "outputs": [
        {
          "output_type": "display_data",
          "data": {
            "text/plain": [
              "<Figure size 716.55x432 with 1 Axes>"
            ],
            "image/png": "[encoded data removed]"
          },
          "metadata": {}
        }
      ]
    },
    {
      "cell_type": "markdown",
      "source": [
        "Despite of the fact that hosts with more properties to be managed tend to get lower value rating score, hosts with Superhost badge maintain a relatively high score of value rating over the regular hosts. <br> \n",
        "This can be understandable if we refer to the requirements that Airbnb set for a host to get this badge: \n",
        "- Completed at least 10 trips or 3 reservations that total at least 100 nights\n",
        "- Maintained a 4.8 overall rating <br>\n",
        "\n",
        "As they are all experienced ones getting very positive response from guests, they are surely the ones who spent their time in paying much attention to every single details in their listings to fulfill guests' demand and expectation regardless of how many listings they are controlling at once."
      ],
      "metadata": {
        "id": "52tjdgVJaXW3"
      }
    },
    {
      "cell_type": "markdown",
      "source": [
        "Another factor that we are about to discover is a feature called \"Instant Book\". This has been promoted by Airbnb as a feature that helps:\n",
        "- boosting the earnings \n",
        "- improving the ranking in search results\n",
        "- making hosts feel convenient as they do not have to respond to every request <br>\n",
        "\n",
        "We will see how guests are evaluating the hosts with multiple properties when they turn on or off this \"instant book\" feature. "
      ],
      "metadata": {
        "id": "cQ0nMEvYqGYd"
      }
    },
    {
      "cell_type": "code",
      "source": [
        "data_instant = pd.pivot_table(data=df_manage, \n",
        "               index='host_listings_count', \n",
        "               columns='instant_bookable', \n",
        "               values='rs_value',\n",
        "               aggfunc='median')\n",
        "data_instant = data_instant.reset_index()"
      ],
      "metadata": {
        "id": "yGz_F4lpqL85"
      },
      "execution_count": 60,
      "outputs": []
    },
    {
      "cell_type": "code",
      "source": [
        "plot_instant = data_instant.melt(id_vars=['host_listings_count'], \n",
        "           value_vars=['f', 't'], \n",
        "           var_name='instant_bookable', \n",
        "           value_name='rs_value')"
      ],
      "metadata": {
        "id": "MSZE9tqr7hXF"
      },
      "execution_count": 61,
      "outputs": []
    },
    {
      "cell_type": "code",
      "source": [
        "g = sns.lmplot(data=plot_instant, x='host_listings_count', y='rs_value', hue='instant_bookable', markers=['o', 'x'], \n",
        "           height=6, aspect=1.5, palette=dict(f='grey', t='limegreen'))\n",
        "plt.title('Correlation between Instant Booking and Value rating score')\n",
        "plt.xlabel('Number of properties managed')\n",
        "plt.ylabel('Value rating score (points)')\n",
        "g._legend.set_title('Instant booking')\n",
        "plt.show()"
      ],
      "metadata": {
        "colab": {
          "base_uri": "https://localhost:8080/",
          "height": 450
        },
        "id": "cQAKb_t47Veq",
        "outputId": "cdcec40c-d795-4435-f6aa-3989b788020b"
      },
      "execution_count": 62,
      "outputs": [
        {
          "output_type": "display_data",
          "data": {
            "text/plain": [
              "<Figure size 759.55x432 with 1 Axes>"
            ],
            "image/png": "[encoded data removed]"
          },
          "metadata": {}
        }
      ]
    },
    {
      "cell_type": "markdown",
      "source": [
        "Although the discrepancy in value rating score between hosts using or not using this feature is not that much and the rating value keeps going down when hosts manage too many properties, we can see an interesting trend here is that hosts turning on \"instant book\" have a lower value rating score than the ones that turned it off. "
      ],
      "metadata": {
        "id": "Hqu-YD18zh4-"
      }
    },
    {
      "cell_type": "markdown",
      "source": [
        "This kind of fast booking in a short time can lead us to e-commerce are where there is a similar term with \"instant book\" here, which is called \"flash sales\". <br> \n",
        "Whenever there are flash sales on e-commerce websites, customers rush to it, find the ones they targeted and proceed payment immediately before they are sold out. But this selling strategy also has many serious consequences. "
      ],
      "metadata": {
        "id": "TCDFafbF2OB9"
      }
    },
    {
      "cell_type": "markdown",
      "source": [
        "Talking about this issue, there is one article named as \"The Death of Flash Sales' published on Retail TouchPoints - an online publishing network for retail executives - said about how consumers leave negative comments on Facebook page of Gilt ([an US e-commerce website](https://www.gilt.com/boutique/)) as they disappointed with the ones they purchased too fast: <br> <br>\n",
        "***With 27% of negative Facebook comments targeting Gilt’s product, opulent quality in flash sale merchandise is on the outs and is shedding light on the rise of aged fabric.*** <br>\n",
        "***But 45% of flash sale offers sell out before the shopper can even review their virtual shopping carts, according to research from Dotcom Distribution. This essentially leaves shoppers in the dust.*** <br> \n",
        "\n",
        "Mona Bijoor (CEO of JOOR). *Death of Flash Sales*. Retail TouchPoints. https://www.retailtouchpoints.com/blog/the-death-of-flash-sales"
      ],
      "metadata": {
        "id": "etjMrsr9QLMD"
      }
    },
    {
      "cell_type": "markdown",
      "source": [
        "Back to the case of \"Instant book\", when guest book a listing in a short time, they tend to not pay much attention to details mentioned in the listing such the housing rule, check-in/out time, strict rule in one neighbourhood... And when they experience these in person, they may feel disappointed and blame it back to the hosts as the listings is not worth the money they have paid, which resulted into a low score of value rating. "
      ],
      "metadata": {
        "id": "vJdO_GacR_kF"
      }
    },
    {
      "cell_type": "markdown",
      "source": [
        "One factor to find out whether that listing is value for the money is about the amenites offered. \"Amenties\" is also the term that Airbnb stressed out and mentioned when they share tips to [earn great reviews from guests](https://www.airbnb.com/resources/hosting-homes/a/whats-expected-of-hosts-432). It is also the final factor in this scale of analysis. "
      ],
      "metadata": {
        "id": "fTNx_jppWVEG"
      }
    },
    {
      "cell_type": "markdown",
      "source": [
        "### Amenities"
      ],
      "metadata": {
        "id": "vGi4kHG_xhJH"
      }
    },
    {
      "cell_type": "markdown",
      "source": [
        "There is a lot of amenities a host would like to offer in their listings with a hope to meet guest's demand and expectation. But hosts are not sure which ones can bring benefits to guests and which ones would turn down their moods."
      ],
      "metadata": {
        "id": "HLMQJ8ltbmhG"
      }
    },
    {
      "cell_type": "markdown",
      "source": [
        "One basic thing can be taken as an example is how guests response to Free vs. Paid service, and we will talk about parking service at listings specifically. "
      ],
      "metadata": {
        "id": "Rmhq5iZHicCA"
      }
    },
    {
      "cell_type": "code",
      "source": [
        "parking = ['Free parking on premises', 'Free street parking', 'Paid parking on premises', 'Paid parking off premises']\n",
        "service = ['Free dryer', 'Free washer', 'Paid dryer', 'Paid washer']"
      ],
      "metadata": {
        "id": "rA6bitZyi2Et"
      },
      "execution_count": 113,
      "outputs": []
    },
    {
      "cell_type": "code",
      "source": [
        "all = parking + service"
      ],
      "metadata": {
        "id": "4jTrvCp5fFQm"
      },
      "execution_count": 114,
      "outputs": []
    },
    {
      "cell_type": "code",
      "source": [
        "parking_list = []\n",
        "service_list = []\n",
        "tmp = {}\n",
        "\n",
        "for i in range(len(parking)): \n",
        "    parking_list.append(df[df['amenities'].str.contains(parking[i])]['rs_value'].mean())\n",
        "    service_list.append(df[df['amenities'].str.contains(service[i])]['rs_value'].mean())\n",
        "\n",
        "tmp['rating'] = parking_list + service_list\n",
        "\n",
        "rating = pd.DataFrame(tmp, index=all)"
      ],
      "metadata": {
        "id": "cMfNXGmZi2Zl"
      },
      "execution_count": 124,
      "outputs": []
    },
    {
      "cell_type": "code",
      "source": [
        "rating"
      ],
      "metadata": {
        "colab": {
          "base_uri": "https://localhost:8080/",
          "height": 300
        },
        "id": "StfxceQghprM",
        "outputId": "831a99eb-8705-4dd4-c22d-5865a76978fc"
      },
      "execution_count": 145,
      "outputs": [
        {
          "output_type": "execute_result",
          "data": {
            "text/plain": [
              "                             rating\n",
              "Free parking on premises   4.722197\n",
              "Free street parking        4.757958\n",
              "Paid parking on premises   4.605913\n",
              "Paid parking off premises  4.621625\n",
              "Free dryer                 4.786839\n",
              "Free washer                4.782456\n",
              "Paid dryer                 4.707090\n",
              "Paid washer                4.711494"
            ],
            "text/html": [
              "\n",
              "  <div id=\"df-d3f52cfe-63b3-40e7-8080-901c995a15d2\">\n",
              "    <div class=\"colab-df-container\">\n",
              "      <div>\n",
              "<style scoped>\n",
              "    .dataframe tbody tr th:only-of-type {\n",
              "        vertical-align: middle;\n",
              "    }\n",
              "\n",
              "    .dataframe tbody tr th {\n",
              "        vertical-align: top;\n",
              "    }\n",
              "\n",
              "    .dataframe thead th {\n",
              "        text-align: right;\n",
              "    }\n",
              "</style>\n",
              "<table border=\"1\" class=\"dataframe\">\n",
              "  <thead>\n",
              "    <tr style=\"text-align: right;\">\n",
              "      <th></th>\n",
              "      <th>rating</th>\n",
              "    </tr>\n",
              "  </thead>\n",
              "  <tbody>\n",
              "    <tr>\n",
              "      <th>Free parking on premises</th>\n",
              "      <td>4.722197</td>\n",
              "    </tr>\n",
              "    <tr>\n",
              "      <th>Free street parking</th>\n",
              "      <td>4.757958</td>\n",
              "    </tr>\n",
              "    <tr>\n",
              "      <th>Paid parking on premises</th>\n",
              "      <td>4.605913</td>\n",
              "    </tr>\n",
              "    <tr>\n",
              "      <th>Paid parking off premises</th>\n",
              "      <td>4.621625</td>\n",
              "    </tr>\n",
              "    <tr>\n",
              "      <th>Free dryer</th>\n",
              "      <td>4.786839</td>\n",
              "    </tr>\n",
              "    <tr>\n",
              "      <th>Free washer</th>\n",
              "      <td>4.782456</td>\n",
              "    </tr>\n",
              "    <tr>\n",
              "      <th>Paid dryer</th>\n",
              "      <td>4.707090</td>\n",
              "    </tr>\n",
              "    <tr>\n",
              "      <th>Paid washer</th>\n",
              "      <td>4.711494</td>\n",
              "    </tr>\n",
              "  </tbody>\n",
              "</table>\n",
              "</div>\n",
              "      <button class=\"colab-df-convert\" onclick=\"convertToInteractive('df-d3f52cfe-63b3-40e7-8080-901c995a15d2')\"\n",
              "              title=\"Convert this dataframe to an interactive table.\"\n",
              "              style=\"display:none;\">\n",
              "        \n",
              "  <svg xmlns=\"http://www.w3.org/2000/svg\" height=\"24px\"viewBox=\"0 0 24 24\"\n",
              "       width=\"24px\">\n",
              "    <path d=\"M0 0h24v24H0V0z\" fill=\"none\"/>\n",
              "    <path d=\"M18.56 5.44l.94 2.06.94-2.06 2.06-.94-2.06-.94-.94-2.06-.94 2.06-2.06.94zm-11 1L8.5 8.5l.94-2.06 2.06-.94-2.06-.94L8.5 2.5l-.94 2.06-2.06.94zm10 10l.94 2.06.94-2.06 2.06-.94-2.06-.94-.94-2.06-.94 2.06-2.06.94z\"/><path d=\"M17.41 7.96l-1.37-1.37c-.4-.4-.92-.59-1.43-.59-.52 0-1.04.2-1.43.59L10.3 9.45l-7.72 7.72c-.78.78-.78 2.05 0 2.83L4 21.41c.39.39.9.59 1.41.59.51 0 1.02-.2 1.41-.59l7.78-7.78 2.81-2.81c.8-.78.8-2.07 0-2.86zM5.41 20L4 18.59l7.72-7.72 1.47 1.35L5.41 20z\"/>\n",
              "  </svg>\n",
              "      </button>\n",
              "      \n",
              "  <style>\n",
              "    .colab-df-container {\n",
              "      display:flex;\n",
              "      flex-wrap:wrap;\n",
              "      gap: 12px;\n",
              "    }\n",
              "\n",
              "    .colab-df-convert {\n",
              "      background-color: #E8F0FE;\n",
              "      border: none;\n",
              "      border-radius: 50%;\n",
              "      cursor: pointer;\n",
              "      display: none;\n",
              "      fill: #1967D2;\n",
              "      height: 32px;\n",
              "      padding: 0 0 0 0;\n",
              "      width: 32px;\n",
              "    }\n",
              "\n",
              "    .colab-df-convert:hover {\n",
              "      background-color: #E2EBFA;\n",
              "      box-shadow: 0px 1px 2px rgba(60, 64, 67, 0.3), 0px 1px 3px 1px rgba(60, 64, 67, 0.15);\n",
              "      fill: #174EA6;\n",
              "    }\n",
              "\n",
              "    [theme=dark] .colab-df-convert {\n",
              "      background-color: #3B4455;\n",
              "      fill: #D2E3FC;\n",
              "    }\n",
              "\n",
              "    [theme=dark] .colab-df-convert:hover {\n",
              "      background-color: #434B5C;\n",
              "      box-shadow: 0px 1px 3px 1px rgba(0, 0, 0, 0.15);\n",
              "      filter: drop-shadow(0px 1px 2px rgba(0, 0, 0, 0.3));\n",
              "      fill: #FFFFFF;\n",
              "    }\n",
              "  </style>\n",
              "\n",
              "      <script>\n",
              "        const buttonEl =\n",
              "          document.querySelector('#df-d3f52cfe-63b3-40e7-8080-901c995a15d2 button.colab-df-convert');\n",
              "        buttonEl.style.display =\n",
              "          google.colab.kernel.accessAllowed ? 'block' : 'none';\n",
              "\n",
              "        async function convertToInteractive(key) {\n",
              "          const element = document.querySelector('#df-d3f52cfe-63b3-40e7-8080-901c995a15d2');\n",
              "          const dataTable =\n",
              "            await google.colab.kernel.invokeFunction('convertToInteractive',\n",
              "                                                     [key], {});\n",
              "          if (!dataTable) return;\n",
              "\n",
              "          const docLinkHtml = 'Like what you see? Visit the ' +\n",
              "            '<a target=\"_blank\" href=https://colab.research.google.com/notebooks/data_table.ipynb>data table notebook</a>'\n",
              "            + ' to learn more about interactive tables.';\n",
              "          element.innerHTML = '';\n",
              "          dataTable['output_type'] = 'display_data';\n",
              "          await google.colab.output.renderOutput(dataTable, element);\n",
              "          const docLink = document.createElement('div');\n",
              "          docLink.innerHTML = docLinkHtml;\n",
              "          element.appendChild(docLink);\n",
              "        }\n",
              "      </script>\n",
              "    </div>\n",
              "  </div>\n",
              "  "
            ]
          },
          "metadata": {},
          "execution_count": 145
        }
      ]
    },
    {
      "cell_type": "code",
      "source": [
        "rating_parking = rating.iloc[:4].reset_index()\n",
        "rating_parking = rating_parking.rename(columns={'index': 'parking_type', 'rating': 'rating_parking'})"
      ],
      "metadata": {
        "id": "CCIN28ZSi2W9"
      },
      "execution_count": 134,
      "outputs": []
    },
    {
      "cell_type": "code",
      "source": [
        "rating_service = rating.iloc[5:].reset_index()\n",
        "rating_service = rating_service.rename(columns={'index': 'parking_type', 'rating': 'rating_service'})"
      ],
      "metadata": {
        "id": "ik4TIhjjgSBV"
      },
      "execution_count": 141,
      "outputs": []
    },
    {
      "cell_type": "code",
      "source": [
        "rating_parking['group'] = rating_parking['parking_type'].apply(lambda x: 'free' if 'Free' in x else 'paid')\n",
        "rating_service['group'] = rating_service['parking_type'].apply(lambda x: 'free' if 'Free' in x else 'paid')"
      ],
      "metadata": {
        "id": "tuYzcwM1kwlG"
      },
      "execution_count": 142,
      "outputs": []
    },
    {
      "cell_type": "code",
      "source": [
        "compare_parking = pd.pivot_table(data=rating_parking.iloc[:,1:], \n",
        "                           index=None, \n",
        "                           columns='group', \n",
        "                           values='rating_parking', \n",
        "                           aggfunc='mean')\n",
        "\n",
        "compare_parking['percentage_diff'] = ((compare_parking['free'] / compare_parking['paid']) - 1) * 100"
      ],
      "metadata": {
        "id": "KQ-NwlTPndXH"
      },
      "execution_count": 139,
      "outputs": []
    },
    {
      "cell_type": "code",
      "source": [
        "compare_service = pd.pivot_table(data=rating_service.iloc[:,1:], \n",
        "                           index=None, \n",
        "                           columns='group', \n",
        "                           values='rating_service', \n",
        "                           aggfunc='mean')\n",
        "\n",
        "compare_service['percentage_diff'] = ((compare_service['free'] / compare_service['paid']) - 1) * 100"
      ],
      "metadata": {
        "id": "9yQUVtU2gbqi"
      },
      "execution_count": 143,
      "outputs": []
    },
    {
      "cell_type": "code",
      "source": [
        "compare_data = pd.concat([compare_parking, compare_service], axis=0)\n",
        "compare_data"
      ],
      "metadata": {
        "colab": {
          "base_uri": "https://localhost:8080/",
          "height": 112
        },
        "id": "FR3065CgoDdA",
        "outputId": "91364d5e-f3c4-4856-d287-daf106984e6d"
      },
      "execution_count": 144,
      "outputs": [
        {
          "output_type": "execute_result",
          "data": {
            "text/plain": [
              "group               free      paid  percentage_diff\n",
              "rating_parking  4.740078  4.613769         2.737645\n",
              "rating_service  4.782456  4.709292         1.553617"
            ],
            "text/html": [
              "\n",
              "  <div id=\"df-55bc8a7b-5fa3-4a5c-b2f6-871569358c77\">\n",
              "    <div class=\"colab-df-container\">\n",
              "      <div>\n",
              "<style scoped>\n",
              "    .dataframe tbody tr th:only-of-type {\n",
              "        vertical-align: middle;\n",
              "    }\n",
              "\n",
              "    .dataframe tbody tr th {\n",
              "        vertical-align: top;\n",
              "    }\n",
              "\n",
              "    .dataframe thead th {\n",
              "        text-align: right;\n",
              "    }\n",
              "</style>\n",
              "<table border=\"1\" class=\"dataframe\">\n",
              "  <thead>\n",
              "    <tr style=\"text-align: right;\">\n",
              "      <th>group</th>\n",
              "      <th>free</th>\n",
              "      <th>paid</th>\n",
              "      <th>percentage_diff</th>\n",
              "    </tr>\n",
              "  </thead>\n",
              "  <tbody>\n",
              "    <tr>\n",
              "      <th>rating_parking</th>\n",
              "      <td>4.740078</td>\n",
              "      <td>4.613769</td>\n",
              "      <td>2.737645</td>\n",
              "    </tr>\n",
              "    <tr>\n",
              "      <th>rating_service</th>\n",
              "      <td>4.782456</td>\n",
              "      <td>4.709292</td>\n",
              "      <td>1.553617</td>\n",
              "    </tr>\n",
              "  </tbody>\n",
              "</table>\n",
              "</div>\n",
              "      <button class=\"colab-df-convert\" onclick=\"convertToInteractive('df-55bc8a7b-5fa3-4a5c-b2f6-871569358c77')\"\n",
              "              title=\"Convert this dataframe to an interactive table.\"\n",
              "              style=\"display:none;\">\n",
              "        \n",
              "  <svg xmlns=\"http://www.w3.org/2000/svg\" height=\"24px\"viewBox=\"0 0 24 24\"\n",
              "       width=\"24px\">\n",
              "    <path d=\"M0 0h24v24H0V0z\" fill=\"none\"/>\n",
              "    <path d=\"M18.56 5.44l.94 2.06.94-2.06 2.06-.94-2.06-.94-.94-2.06-.94 2.06-2.06.94zm-11 1L8.5 8.5l.94-2.06 2.06-.94-2.06-.94L8.5 2.5l-.94 2.06-2.06.94zm10 10l.94 2.06.94-2.06 2.06-.94-2.06-.94-.94-2.06-.94 2.06-2.06.94z\"/><path d=\"M17.41 7.96l-1.37-1.37c-.4-.4-.92-.59-1.43-.59-.52 0-1.04.2-1.43.59L10.3 9.45l-7.72 7.72c-.78.78-.78 2.05 0 2.83L4 21.41c.39.39.9.59 1.41.59.51 0 1.02-.2 1.41-.59l7.78-7.78 2.81-2.81c.8-.78.8-2.07 0-2.86zM5.41 20L4 18.59l7.72-7.72 1.47 1.35L5.41 20z\"/>\n",
              "  </svg>\n",
              "      </button>\n",
              "      \n",
              "  <style>\n",
              "    .colab-df-container {\n",
              "      display:flex;\n",
              "      flex-wrap:wrap;\n",
              "      gap: 12px;\n",
              "    }\n",
              "\n",
              "    .colab-df-convert {\n",
              "      background-color: #E8F0FE;\n",
              "      border: none;\n",
              "      border-radius: 50%;\n",
              "      cursor: pointer;\n",
              "      display: none;\n",
              "      fill: #1967D2;\n",
              "      height: 32px;\n",
              "      padding: 0 0 0 0;\n",
              "      width: 32px;\n",
              "    }\n",
              "\n",
              "    .colab-df-convert:hover {\n",
              "      background-color: #E2EBFA;\n",
              "      box-shadow: 0px 1px 2px rgba(60, 64, 67, 0.3), 0px 1px 3px 1px rgba(60, 64, 67, 0.15);\n",
              "      fill: #174EA6;\n",
              "    }\n",
              "\n",
              "    [theme=dark] .colab-df-convert {\n",
              "      background-color: #3B4455;\n",
              "      fill: #D2E3FC;\n",
              "    }\n",
              "\n",
              "    [theme=dark] .colab-df-convert:hover {\n",
              "      background-color: #434B5C;\n",
              "      box-shadow: 0px 1px 3px 1px rgba(0, 0, 0, 0.15);\n",
              "      filter: drop-shadow(0px 1px 2px rgba(0, 0, 0, 0.3));\n",
              "      fill: #FFFFFF;\n",
              "    }\n",
              "  </style>\n",
              "\n",
              "      <script>\n",
              "        const buttonEl =\n",
              "          document.querySelector('#df-55bc8a7b-5fa3-4a5c-b2f6-871569358c77 button.colab-df-convert');\n",
              "        buttonEl.style.display =\n",
              "          google.colab.kernel.accessAllowed ? 'block' : 'none';\n",
              "\n",
              "        async function convertToInteractive(key) {\n",
              "          const element = document.querySelector('#df-55bc8a7b-5fa3-4a5c-b2f6-871569358c77');\n",
              "          const dataTable =\n",
              "            await google.colab.kernel.invokeFunction('convertToInteractive',\n",
              "                                                     [key], {});\n",
              "          if (!dataTable) return;\n",
              "\n",
              "          const docLinkHtml = 'Like what you see? Visit the ' +\n",
              "            '<a target=\"_blank\" href=https://colab.research.google.com/notebooks/data_table.ipynb>data table notebook</a>'\n",
              "            + ' to learn more about interactive tables.';\n",
              "          element.innerHTML = '';\n",
              "          dataTable['output_type'] = 'display_data';\n",
              "          await google.colab.output.renderOutput(dataTable, element);\n",
              "          const docLink = document.createElement('div');\n",
              "          docLink.innerHTML = docLinkHtml;\n",
              "          element.appendChild(docLink);\n",
              "        }\n",
              "      </script>\n",
              "    </div>\n",
              "  </div>\n",
              "  "
            ]
          },
          "metadata": {},
          "execution_count": 144
        }
      ]
    },
    {
      "cell_type": "markdown",
      "source": [
        "As the result shows, \n",
        "- Rating of hosts that offer free parking services is nearly 3% higher than the ones asking guests to pay. \n",
        "- Same case applied to service section as hosts offering free dryer, washer in their listings get 1.6% higher in value rating score than hosts do not have free service policy. <br>\n",
        "\n",
        "In general, all guests love free services, which results into a high value of rating. "
      ],
      "metadata": {
        "id": "Q-9rzoGOl4pU"
      }
    },
    {
      "cell_type": "markdown",
      "source": [
        "Let's talk about the travel after pandemic. There is a lot of new trends appear after a long time of isolation in a same place from time to time. As a result, people want to escape from their sweet homes and live in another place. As being mentioned in article published on Airbnb called [\"Travel revolution in data\"](https://news.airbnb.com/travel-revolution-in-data/), the author declared: \"People increasingly are living on Airbnb. They want amenities for living, not just visiting.\" <br>\n",
        "In the most searched-for amenities, in addition to extra services like pools, wifi, free parking or pets-allowed, surprisingly, kitchen is the one that guests are frequently looking for it (up 95% based on the article)."
      ],
      "metadata": {
        "id": "4-Xb8p-HcCjt"
      }
    },
    {
      "cell_type": "markdown",
      "source": [
        "From the scale of this dataset, we are going to see how hosts are equiping kitchen in their listings and how guests' responses are. <br>\n",
        "First, we find all the listings that listed out all Kitchen amenities and listings listed the word \"Kitchen\" only for comparison about listings supply and value rating score. "
      ],
      "metadata": {
        "id": "_cYhEfwpd7uk"
      }
    },
    {
      "cell_type": "code",
      "source": [
        "all_kitchen = df[(df['amenities'].str.contains('Kitchen')) & \n",
        "   (df['amenities'].str.contains('Cooking basics')) & \n",
        "   (df['amenities'].str.contains('Dishes and silverware')) &\n",
        "   (df['amenities'].str.contains('Coffee maker')) & \n",
        "   (df['amenities'].str.contains('Refrigerator')) &\n",
        "   (df['amenities'].str.contains('Microwave'))]"
      ],
      "metadata": {
        "id": "1IMDXznP1_yc"
      },
      "execution_count": 71,
      "outputs": []
    },
    {
      "cell_type": "code",
      "source": [
        "only_kitchen = df[df['amenities'].str.contains('Kitchen')]"
      ],
      "metadata": {
        "id": "TqWV57leuIYI"
      },
      "execution_count": 72,
      "outputs": []
    },
    {
      "cell_type": "code",
      "source": [
        "only_kitchen = only_kitchen[~only_kitchen['amenities'].str.contains('Cooking basics')]"
      ],
      "metadata": {
        "id": "oqOorzoZuPK8"
      },
      "execution_count": 73,
      "outputs": []
    },
    {
      "cell_type": "code",
      "source": [
        "only_kitchen = only_kitchen[~only_kitchen['amenities'].str.contains('Dishes and silverware')]"
      ],
      "metadata": {
        "id": "cRU3XmiEua8S"
      },
      "execution_count": 74,
      "outputs": []
    },
    {
      "cell_type": "code",
      "source": [
        "only_kitchen = only_kitchen[~only_kitchen['amenities'].str.contains('Coffee maker')]"
      ],
      "metadata": {
        "id": "80AM0o4Tua5y"
      },
      "execution_count": 75,
      "outputs": []
    },
    {
      "cell_type": "code",
      "source": [
        "only_kitchen = only_kitchen[~only_kitchen['amenities'].str.contains('Refrigerator')]"
      ],
      "metadata": {
        "id": "eY5_exw0ua3b"
      },
      "execution_count": 76,
      "outputs": []
    },
    {
      "cell_type": "code",
      "source": [
        "only_kitchen = only_kitchen[~only_kitchen['amenities'].str.contains('Microwave')]"
      ],
      "metadata": {
        "id": "2LSqCcp6ua02"
      },
      "execution_count": 77,
      "outputs": []
    },
    {
      "cell_type": "markdown",
      "source": [
        "Then, we can compute: \n",
        "- The number of listings in 2 groups: one included only \"Kitchen\" and one with Kitchen plus other cooking things.\n",
        "- Average rating score in these 2 groups"
      ],
      "metadata": {
        "id": "_urEiX6Mh5yw"
      }
    },
    {
      "cell_type": "code",
      "source": [
        "kitchen_supply = all_kitchen.shape[0] + only_kitchen.shape[0]\n",
        "kitchen_supply"
      ],
      "metadata": {
        "colab": {
          "base_uri": "https://localhost:8080/"
        },
        "id": "yQprlAVKsjbm",
        "outputId": "888a4481-91d6-44de-a56a-9988cb8a907b"
      },
      "execution_count": 78,
      "outputs": [
        {
          "output_type": "execute_result",
          "data": {
            "text/plain": [
              "9429"
            ]
          },
          "metadata": {},
          "execution_count": 78
        }
      ]
    },
    {
      "cell_type": "code",
      "source": [
        "all_rate = all_kitchen.shape[0] / kitchen_supply * 100\n",
        "only_rate = only_kitchen.shape[0] / kitchen_supply * 100"
      ],
      "metadata": {
        "id": "DCrW5-KUsjZI"
      },
      "execution_count": 79,
      "outputs": []
    },
    {
      "cell_type": "code",
      "source": [
        "all_kitchen['rs_value'].mean()"
      ],
      "metadata": {
        "colab": {
          "base_uri": "https://localhost:8080/"
        },
        "id": "Z89JNmQvvTD4",
        "outputId": "174f2172-004b-4a11-c189-3563d6c109ff"
      },
      "execution_count": 80,
      "outputs": [
        {
          "output_type": "execute_result",
          "data": {
            "text/plain": [
              "4.74655323819978"
            ]
          },
          "metadata": {},
          "execution_count": 80
        }
      ]
    },
    {
      "cell_type": "code",
      "source": [
        "only_kitchen['rs_value'].mean()"
      ],
      "metadata": {
        "colab": {
          "base_uri": "https://localhost:8080/"
        },
        "id": "LGsXxN65vO_o",
        "outputId": "eba8b72d-f9c6-4770-bf91-ef0a7ef4fba4"
      },
      "execution_count": 81,
      "outputs": [
        {
          "output_type": "execute_result",
          "data": {
            "text/plain": [
              "4.635617886178862"
            ]
          },
          "metadata": {},
          "execution_count": 81
        }
      ]
    },
    {
      "cell_type": "code",
      "source": [
        "data = [only_rate, all_rate]\n",
        "labels = ['No other kitchen amenities listed with 4.64 of average value rating', \n",
        "          'Other kitchen amenities listed with 4.75 of average value rating']"
      ],
      "metadata": {
        "id": "Zqm69PIQsjWz"
      },
      "execution_count": 82,
      "outputs": []
    },
    {
      "cell_type": "code",
      "source": [
        "plt.pie(data, labels=labels, autopct='%.0f%%', explode=[0.05]*2)\n",
        "plt.show()"
      ],
      "metadata": {
        "colab": {
          "base_uri": "https://localhost:8080/",
          "height": 248
        },
        "id": "zJSD1DaYvg4U",
        "outputId": "016f6afa-8f69-48d7-dff4-059b5054fb48"
      },
      "execution_count": 83,
      "outputs": [
        {
          "output_type": "display_data",
          "data": {
            "text/plain": [
              "<Figure size 432x288 with 1 Axes>"
            ],
            "image/png": "[encoded data removed]"
          },
          "metadata": {}
        }
      ]
    },
    {
      "cell_type": "markdown",
      "source": [
        "Of the 9429 listings with kitchen listed in the Amenity section:\n",
        "- Listings that included Kitchen and its relevant amenities have a high rating with 4.75 and there is 87% of listings that is currently advertised like that. <br> \n",
        "- The remained 13% of listings that included only \"Kitchen\" in amenity get lower rating score with 4.64 . <br>\n",
        "\n",
        "This can be understandable from guest's perspective. If a host mentioned only \"Kitchen\" in the amenity without other equipments, guests still expect to get a full set of cooking things. And if the host did not provide at level the guests expected, they will have negative feelings, which leads to a low of value rating score. Therefore, hosts should mention in details what they can offer to avoid high expectation from guests and also help guests to be prepared by themselves. "
      ],
      "metadata": {
        "id": "PvicFYP3fsAi"
      }
    },
    {
      "cell_type": "markdown",
      "source": [
        "## Conclusion"
      ],
      "metadata": {
        "id": "Zz1BDsRBi2AO"
      }
    },
    {
      "cell_type": "markdown",
      "source": [
        "- Guest's expectation can change with the listing size. Listings with larger sizes tend to have a wide range of price and guests would take it into consideration. Each of guest has different points of view of what is valuable to them base on what they received and rating score therefore will also be given subjectively. \n",
        "- When one place has too many listings, guests can have a wide range of choices for choosing based on their demands. That's when the comparisons come out and rating scores now are varied significantly. Additionally, properties in places with high density of listing can struggle to achieve a 4.8-score of rating than properties in places where listings are sparsely distributed. \n",
        "- If one host has too many properties to manage at once, they hardly catch up with little things in each listings, which may fail the guest's expectation. Moreover, there are also some interesting patterns to be found out as well: \n",
        "  - Superhosts, which are the experienced ones, tend to get over challenges of multiple listings management and meet the demand of guest much more easily.\n",
        "  - Host with multiple listings tend to turn on \"instant book\" to help with response rate improvement. However, this can be a double-edged sword as when the guest book a listing to fast, they tend to ignore things and there is a high chance those are the important ones that host would like to notice guests in advance. This behaviour can be resulted into disappointment after they experienced in persons and can hurt the reputation of hosts eventually. \n",
        "- Amenities play a critical role in adding value to listing, especially the free ones. Additionally, hosts should be specific in what amenities they can offer in order to avoid high expectation from guests. \n"
      ],
      "metadata": {
        "id": "UfAp1Qvhi4s3"
      }
    },
    {
      "cell_type": "code",
      "source": [
        ""
      ],
      "metadata": {
        "id": "CTESwVbYcTNz"
      },
      "execution_count": null,
      "outputs": []
    }
  ]
}